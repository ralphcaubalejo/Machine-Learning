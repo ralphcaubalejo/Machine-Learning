{
 "cells": [
  {
   "cell_type": "markdown",
   "metadata": {
    "ExecuteTime": {
     "end_time": "2020-08-21T13:03:09.958905Z",
     "start_time": "2020-08-21T13:03:08.337820Z"
    }
   },
   "source": [
    "# Scraping, Cleaning and Optimization Codes"
   ]
  },
  {
   "cell_type": "markdown",
   "metadata": {
    "ExecuteTime": {
     "end_time": "2020-08-23T10:41:23.472951Z",
     "start_time": "2020-08-23T10:41:23.467408Z"
    }
   },
   "source": [
    "Function Used"
   ]
  },
  {
   "cell_type": "code",
   "execution_count": null,
   "metadata": {},
   "outputs": [],
   "source": [
    "import requests\n",
    "import bs4\n",
    "import time\n",
    "import sqlite3\n",
    "import re\n",
    "import pandas as pd\n",
    "import numpy as np\n",
    "from tqdm import tqdm\n",
    "\n",
    "from sklearn.metrics import mean_squared_error\n",
    "from sklearn.metrics import mean_absolute_error\n",
    "from sklearn.metrics import max_error\n",
    "from sklearn.metrics import explained_variance_score\n",
    "from sklearn.metrics import mean_squared_log_error\n",
    "from sklearn.metrics import median_absolute_error\n",
    "\n",
    "from sklearn.model_selection import train_test_split\n",
    "\n",
    "from sklearn.linear_model import LinearRegression\n",
    "from sklearn.linear_model import LinearRegression\n",
    "from sklearn.linear_model import Lasso\n",
    "from sklearn.linear_model import Ridge\n",
    "from sklearn.neighbors import KNeighborsRegressor\n",
    "from sklearn.tree import DecisionTreeRegressor\n",
    "from sklearn.ensemble import RandomForestRegressor\n",
    "from sklearn.ensemble import GradientBoostingRegressor\n",
    "from sklearn.ensemble import VotingRegressor\n",
    "from sklearn.ensemble import ExtraTreesRegressor\n",
    "from sklearn.ensemble import StackingRegressor\n",
    "from sklearn.ensemble import BaggingRegressor\n",
    "        \n",
    "from xgboost import XGBRegressor\n",
    "from catboost import CatBoostRegressor\n",
    "from lightgbm import LGBMRegressor\n",
    "\n",
    "%matplotlib inline\n",
    "import matplotlib.pyplot as plt"
   ]
  },
  {
   "cell_type": "markdown",
   "metadata": {},
   "source": [
    "# Obtain Unique Links of the Different Listings in Lamudi.PH"
   ]
  },
  {
   "cell_type": "code",
   "execution_count": 4,
   "metadata": {
    "ExecuteTime": {
     "end_time": "2020-08-21T05:19:56.616224Z",
     "start_time": "2020-08-21T05:19:56.610240Z"
    }
   },
   "outputs": [],
   "source": [
    "links = ['https://www.lamudi.com.ph/metro-manila/quezon-city/condominium/buy/?page=',\n",
    "'https://www.lamudi.com.ph/metro-manila/makati/condominium/buy/?page=',\n",
    "'https://www.lamudi.com.ph/metro-manila/taguig/condominium/buy/?page=',\n",
    "'https://www.lamudi.com.ph/metro-manila/manila/condominium/buy/?page=',\n",
    "'https://www.lamudi.com.ph/metro-manila/mandaluyong/condominium/buy/?page=',\n",
    "'https://www.lamudi.com.ph/metro-manila/muntinlupa/condominium/buy/?page=',\n",
    "'https://www.lamudi.com.ph/metro-manila/san-juan-5/condominium/buy/?page=',\n",
    "'https://www.lamudi.com.ph/metro-manila/paranaque/condominium/buy/?page=',\n",
    "'https://www.lamudi.com.ph/metro-manila/pasig/condominium/buy/?page=',\n",
    "'https://www.lamudi.com.ph/metro-manila/las-pinas/condominium/buy/?page=']"
   ]
  },
  {
   "cell_type": "code",
   "execution_count": 3,
   "metadata": {
    "ExecuteTime": {
     "end_time": "2020-08-18T04:24:44.198131Z",
     "start_time": "2020-08-18T04:24:44.169221Z"
    }
   },
   "outputs": [],
   "source": [
    "list1 = []\n",
    "for x in links:\n",
    "    pages = np.arange(1,101)\n",
    "    for nums in pages:\n",
    "        try:\n",
    "            link = x+str(nums)\n",
    "            df = bs4.BeautifulSoup(requests.get(link,proxies=proxies).text)\n",
    "            df1 = df.find_all(name='a',class_='js-listing-link')\n",
    "            for x in df1:\n",
    "                x1 = x['href']\n",
    "                list1.append((x1))\n",
    "        except:\n",
    "            pass\n",
    "list2 = set(list1)"
   ]
  },
  {
   "cell_type": "markdown",
   "metadata": {},
   "source": [
    "# Create an SQL Database"
   ]
  },
  {
   "cell_type": "code",
   "execution_count": 5,
   "metadata": {
    "ExecuteTime": {
     "end_time": "2020-08-18T04:24:47.483549Z",
     "start_time": "2020-08-18T04:24:47.472578Z"
    }
   },
   "outputs": [],
   "source": [
    "conn = sqlite3.connect('lamudi_final.db')\n",
    "\n",
    "conn.execute(\"\"\"\n",
    "    CREATE TABLE IF NOT EXISTS mytable (City TEXT NULL,Amount TEXT NULL,No_of_Bedroom TEXT NULL,No_of_Baths TEXT NULL,\n",
    "        Floor_Area TEXT NULL,Amenities TEXT TEXT,Latitude TEXT NULL,L0ngitude TEXT NULL,GPath TEXT NULL,Index1 TEXT NULL,\n",
    "        Title TEXT NULL,address TEXT NULL,link TEXT NULL,descrip TEXT NULL)\"\"\")\n",
    "\n",
    "conn.commit()"
   ]
  },
  {
   "cell_type": "markdown",
   "metadata": {},
   "source": [
    "# Program for Scraping"
   ]
  },
  {
   "cell_type": "markdown",
   "metadata": {},
   "source": [
    "The Unique links of the different residential condominiums listings will be passed through the program below. The program will be getting the texts and string on the specified division tags that are needed for the data. The lamudi ph wbesite has rich information on its different division tags."
   ]
  },
  {
   "cell_type": "code",
   "execution_count": 6,
   "metadata": {
    "ExecuteTime": {
     "end_time": "2020-08-18T09:05:57.864110Z",
     "start_time": "2020-08-18T04:25:43.137817Z"
    }
   },
   "outputs": [
    {
     "name": "stderr",
     "output_type": "stream",
     "text": [
      "100%|██████████| 7001/7001 [4:40:14<00:00,  2.40s/it]  \n"
     ]
    }
   ],
   "source": [
    "with tqdm(total=len(list2)) as pb:\n",
    "    for x in list2:\n",
    "        try:\n",
    "            df2 = bs4.BeautifulSoup(requests.get(x).text)\n",
    "            \n",
    "            try:\n",
    "                title= df2.find_all(class_=\"Header-title-block small-12 columns\")[0].find_all('h1')[0].text\n",
    "            except:\n",
    "                title=None\n",
    "                pass\n",
    "            \n",
    "            try:\n",
    "                add=df2.find_all(class_=\"Header-title-block small-12 columns\")[0].find_all('h3')[0].text.replace(\"   \",\"\").replace('\\n','').strip()\n",
    "\n",
    "            except:\n",
    "                add=None\n",
    "                pass\n",
    "\n",
    "            try:\n",
    "                df3=df2.find_all(name='li',class_='icon-arrow-right')[2].text.replace('  ','').replace('\\n','').replace('City:','')\n",
    "            except:\n",
    "                df3=None\n",
    "                pass\n",
    "\n",
    "            try:\n",
    "                df4=df2.find_all(name='span',class_='Overview-main FirstPrice')[0].text.replace('₱ ','').replace(',','')\n",
    "            except:\n",
    "                df4=None\n",
    "                pass\n",
    "\n",
    "            try:\n",
    "                df5=df2.find_all(name='section',id='listing-details')[0].text.replace(\"   \",\"\").replace('\\n','')\n",
    "                try:\n",
    "                    df6 = re.findall(r'Bedrooms   (.)',df5)[0]\n",
    "                except:\n",
    "                  \n",
    "                    df6=None\n",
    "                    pass\n",
    "                try:\n",
    "                    df7 = re.findall(r'Baths   (.)',df5)[0]\n",
    "                except:\n",
    "              \n",
    "                    df7=None\n",
    "                    pass\n",
    "                try:\n",
    "                    df8 = re.findall(r'Floor area \\(m²\\)   (.+?)[ |A-Z]',df5)[0]\n",
    "                except:\n",
    "                   \n",
    "                    df8=None\n",
    "                    pass\n",
    "            except:\n",
    "                df5=None\n",
    "                pass\n",
    "            \n",
    "            try:\n",
    "                df9 = df2.find_all(name='section',id='listing-amenities')[0].text\n",
    "                df10 = df9.replace('\\n','').replace('   ','').replace('  ',':').replace('Amenities ','').split(':')\n",
    "            except:\n",
    "                df10=None\n",
    "                pass\n",
    "            \n",
    "            try:\n",
    "                xylat = df2.find_all(name='div',class_='js-LeftLink-catalog')[0]['data-lat']\n",
    "            except:\n",
    "                xylat=None\n",
    "                pass\n",
    "\n",
    "            try:\n",
    "                xylon = df2.find_all(name='div',class_='js-LeftLink-catalog')[0]['data-lon']\n",
    "            except:\n",
    "                xylon =None\n",
    "\n",
    "                pass\n",
    "\n",
    "            try:\n",
    "                xypath = df2.find_all(name='div',class_='js-LeftLink-catalog')[0]['data-clp-path']\n",
    "            except:\n",
    "                xypath =None\n",
    "                pass   \n",
    "            \n",
    "            try:\n",
    "                descrip = df2.find(name='div',class_='ViewMore-text-description').text\n",
    "            except:\n",
    "                descrip = None\n",
    "                pass   \n",
    "\n",
    "            time.sleep(1)\n",
    "            with conn:\n",
    "                conn.execute(\"INSERT INTO mytable VALUES (?, ?, ?, ?, ?, ?, ?, ?, ?, ?, ?, ?,?,?)\",\n",
    "                             [df3,df4,df6,df7,df8,df9,xylat,xylon,xypath,df5,title,add,x,descrip])\n",
    "        except:\n",
    "            pass\n",
    "        \n",
    "        pb.update(1)\n",
    "        "
   ]
  },
  {
   "cell_type": "code",
   "execution_count": 3,
   "metadata": {
    "ExecuteTime": {
     "end_time": "2020-08-21T13:03:35.107814Z",
     "start_time": "2020-08-21T13:03:34.840970Z"
    }
   },
   "outputs": [],
   "source": [
    "conn = sqlite3.connect('lamudi_data.db')\n",
    "table2 = pd.read_sql(\"\"\" SELECT * from mytable\"\"\",conn).drop('index',axis=1)"
   ]
  },
  {
   "cell_type": "code",
   "execution_count": 4,
   "metadata": {
    "ExecuteTime": {
     "end_time": "2020-08-21T13:03:35.403557Z",
     "start_time": "2020-08-21T13:03:35.388051Z"
    }
   },
   "outputs": [
    {
     "data": {
      "text/html": [
       "<div>\n",
       "<style scoped>\n",
       "    .dataframe tbody tr th:only-of-type {\n",
       "        vertical-align: middle;\n",
       "    }\n",
       "\n",
       "    .dataframe tbody tr th {\n",
       "        vertical-align: top;\n",
       "    }\n",
       "\n",
       "    .dataframe thead th {\n",
       "        text-align: right;\n",
       "    }\n",
       "</style>\n",
       "<table border=\"1\" class=\"dataframe\">\n",
       "  <thead>\n",
       "    <tr style=\"text-align: right;\">\n",
       "      <th></th>\n",
       "      <th>City</th>\n",
       "      <th>Amount</th>\n",
       "      <th>No_of_Bedroom</th>\n",
       "      <th>No_of_Baths</th>\n",
       "      <th>Floor_Area</th>\n",
       "      <th>Amenities</th>\n",
       "      <th>Latitude</th>\n",
       "      <th>L0ngitude</th>\n",
       "      <th>Index1</th>\n",
       "    </tr>\n",
       "  </thead>\n",
       "  <tbody>\n",
       "    <tr>\n",
       "      <th>0</th>\n",
       "      <td>Makati</td>\n",
       "      <td>32500000</td>\n",
       "      <td>2</td>\n",
       "      <td>2</td>\n",
       "      <td>158</td>\n",
       "      <td>\\nAmenities\\n\\n\\n\\n\\n CCTV\\n                  ...</td>\n",
       "      <td>14.56036</td>\n",
       "      <td>121.02202</td>\n",
       "      <td>DetailsCar Spaces   2Bedrooms   2Baths   2Floo...</td>\n",
       "    </tr>\n",
       "    <tr>\n",
       "      <th>1</th>\n",
       "      <td>Quezon City</td>\n",
       "      <td>2800000</td>\n",
       "      <td>1</td>\n",
       "      <td>None</td>\n",
       "      <td>None</td>\n",
       "      <td>\\nAmenities\\n\\n\\n\\n\\n CCTV\\n                  ...</td>\n",
       "      <td>14.620208</td>\n",
       "      <td>120.99982</td>\n",
       "      <td>DetailsBedrooms   1Available from   18/08/2020</td>\n",
       "    </tr>\n",
       "    <tr>\n",
       "      <th>2</th>\n",
       "      <td>Manila</td>\n",
       "      <td>8500000</td>\n",
       "      <td>2</td>\n",
       "      <td>2</td>\n",
       "      <td>52</td>\n",
       "      <td>\\nAmenities\\n\\n\\n\\n\\n Gymnasium\\n             ...</td>\n",
       "      <td>14.5581118</td>\n",
       "      <td>120.9937707</td>\n",
       "      <td>DetailsBedrooms   2Baths   2Floor area (m²)   ...</td>\n",
       "    </tr>\n",
       "    <tr>\n",
       "      <th>3</th>\n",
       "      <td>San Juan</td>\n",
       "      <td>31000000</td>\n",
       "      <td>3</td>\n",
       "      <td>3</td>\n",
       "      <td>155.81</td>\n",
       "      <td>\\nAmenities\\n\\n\\n\\n\\n Gymnasium\\n             ...</td>\n",
       "      <td>14.600676</td>\n",
       "      <td>121.43876</td>\n",
       "      <td>DetailsCar Spaces   2Bedrooms   3Baths   3Floo...</td>\n",
       "    </tr>\n",
       "    <tr>\n",
       "      <th>4</th>\n",
       "      <td>Makati</td>\n",
       "      <td>113900000</td>\n",
       "      <td>3</td>\n",
       "      <td>None</td>\n",
       "      <td>304</td>\n",
       "      <td>\\nAmenities\\n\\n\\n\\n\\n CCTV\\n                  ...</td>\n",
       "      <td>14.555756</td>\n",
       "      <td>121.029209</td>\n",
       "      <td>DetailsCar Spaces   3Bedrooms   3Floor area (m...</td>\n",
       "    </tr>\n",
       "    <tr>\n",
       "      <th>...</th>\n",
       "      <td>...</td>\n",
       "      <td>...</td>\n",
       "      <td>...</td>\n",
       "      <td>...</td>\n",
       "      <td>...</td>\n",
       "      <td>...</td>\n",
       "      <td>...</td>\n",
       "      <td>...</td>\n",
       "      <td>...</td>\n",
       "    </tr>\n",
       "    <tr>\n",
       "      <th>14816</th>\n",
       "      <td>Quezon City</td>\n",
       "      <td>1800000</td>\n",
       "      <td>1</td>\n",
       "      <td>1</td>\n",
       "      <td>18.67</td>\n",
       "      <td>\\nAmenities\\n\\n\\n\\n\\n Alarm System\\n          ...</td>\n",
       "      <td>14.66134</td>\n",
       "      <td>121.03317</td>\n",
       "      <td>DetailsCar Spaces   14Bedrooms   1Baths   1Flo...</td>\n",
       "    </tr>\n",
       "    <tr>\n",
       "      <th>14817</th>\n",
       "      <td>Makati</td>\n",
       "      <td>18000000</td>\n",
       "      <td>1</td>\n",
       "      <td>1</td>\n",
       "      <td>65</td>\n",
       "      <td>\\nAmenities\\n\\n\\n\\n\\n Alarm System\\n          ...</td>\n",
       "      <td>14.5506662</td>\n",
       "      <td>121.0215775</td>\n",
       "      <td>DetailsBedrooms   1Baths   1Floor area (m²)   ...</td>\n",
       "    </tr>\n",
       "    <tr>\n",
       "      <th>14818</th>\n",
       "      <td>Quezon City</td>\n",
       "      <td>5400000</td>\n",
       "      <td>2</td>\n",
       "      <td>2</td>\n",
       "      <td>92.512</td>\n",
       "      <td>\\nAmenities\\n\\n\\n\\n\\n Air conditioning\\n      ...</td>\n",
       "      <td>14.6621443</td>\n",
       "      <td>121.0443089</td>\n",
       "      <td>DetailsBedrooms   2Baths   2Floor area (m²)   ...</td>\n",
       "    </tr>\n",
       "    <tr>\n",
       "      <th>14819</th>\n",
       "      <td>Quezon City</td>\n",
       "      <td>3124000</td>\n",
       "      <td>1</td>\n",
       "      <td>1</td>\n",
       "      <td>27.9</td>\n",
       "      <td>\\nAmenities\\n\\n\\n\\n\\n CCTV\\n                  ...</td>\n",
       "      <td>14.6159491</td>\n",
       "      <td>121.054178</td>\n",
       "      <td>DetailsBuild (Year)   2018Deposit / Bond   200...</td>\n",
       "    </tr>\n",
       "    <tr>\n",
       "      <th>14820</th>\n",
       "      <td>Muntinlupa</td>\n",
       "      <td>38000000</td>\n",
       "      <td>2</td>\n",
       "      <td>3</td>\n",
       "      <td>139</td>\n",
       "      <td>\\nAmenities\\n\\n\\n\\n\\n CCTV\\n                  ...</td>\n",
       "      <td>14.40923</td>\n",
       "      <td>121.03356</td>\n",
       "      <td>DetailsBedrooms   2Baths   3Floor area (m²)   ...</td>\n",
       "    </tr>\n",
       "  </tbody>\n",
       "</table>\n",
       "<p>14821 rows × 9 columns</p>\n",
       "</div>"
      ],
      "text/plain": [
       "              City      Amount No_of_Bedroom No_of_Baths Floor_Area  \\\n",
       "0           Makati   32500000              2           2        158   \n",
       "1      Quezon City    2800000              1        None       None   \n",
       "2           Manila    8500000              2           2         52   \n",
       "3         San Juan   31000000              3           3     155.81   \n",
       "4           Makati  113900000              3        None        304   \n",
       "...            ...         ...           ...         ...        ...   \n",
       "14816  Quezon City    1800000              1           1      18.67   \n",
       "14817       Makati   18000000              1           1         65   \n",
       "14818  Quezon City    5400000              2           2     92.512   \n",
       "14819  Quezon City    3124000              1           1       27.9   \n",
       "14820   Muntinlupa   38000000              2           3        139   \n",
       "\n",
       "                                               Amenities    Latitude  \\\n",
       "0      \\nAmenities\\n\\n\\n\\n\\n CCTV\\n                  ...    14.56036   \n",
       "1      \\nAmenities\\n\\n\\n\\n\\n CCTV\\n                  ...   14.620208   \n",
       "2      \\nAmenities\\n\\n\\n\\n\\n Gymnasium\\n             ...  14.5581118   \n",
       "3      \\nAmenities\\n\\n\\n\\n\\n Gymnasium\\n             ...   14.600676   \n",
       "4      \\nAmenities\\n\\n\\n\\n\\n CCTV\\n                  ...   14.555756   \n",
       "...                                                  ...         ...   \n",
       "14816  \\nAmenities\\n\\n\\n\\n\\n Alarm System\\n          ...    14.66134   \n",
       "14817  \\nAmenities\\n\\n\\n\\n\\n Alarm System\\n          ...  14.5506662   \n",
       "14818  \\nAmenities\\n\\n\\n\\n\\n Air conditioning\\n      ...  14.6621443   \n",
       "14819  \\nAmenities\\n\\n\\n\\n\\n CCTV\\n                  ...  14.6159491   \n",
       "14820  \\nAmenities\\n\\n\\n\\n\\n CCTV\\n                  ...    14.40923   \n",
       "\n",
       "         L0ngitude                                             Index1  \n",
       "0        121.02202  DetailsCar Spaces   2Bedrooms   2Baths   2Floo...  \n",
       "1        120.99982   DetailsBedrooms   1Available from   18/08/2020    \n",
       "2      120.9937707  DetailsBedrooms   2Baths   2Floor area (m²)   ...  \n",
       "3        121.43876  DetailsCar Spaces   2Bedrooms   3Baths   3Floo...  \n",
       "4       121.029209  DetailsCar Spaces   3Bedrooms   3Floor area (m...  \n",
       "...            ...                                                ...  \n",
       "14816    121.03317  DetailsCar Spaces   14Bedrooms   1Baths   1Flo...  \n",
       "14817  121.0215775  DetailsBedrooms   1Baths   1Floor area (m²)   ...  \n",
       "14818  121.0443089  DetailsBedrooms   2Baths   2Floor area (m²)   ...  \n",
       "14819   121.054178  DetailsBuild (Year)   2018Deposit / Bond   200...  \n",
       "14820    121.03356  DetailsBedrooms   2Baths   3Floor area (m²)   ...  \n",
       "\n",
       "[14821 rows x 9 columns]"
      ]
     },
     "execution_count": 4,
     "metadata": {},
     "output_type": "execute_result"
    }
   ],
   "source": [
    "table2"
   ]
  },
  {
   "cell_type": "markdown",
   "metadata": {},
   "source": [
    "# Cleaning Process"
   ]
  },
  {
   "cell_type": "code",
   "execution_count": 5,
   "metadata": {
    "ExecuteTime": {
     "end_time": "2020-08-21T13:03:40.829861Z",
     "start_time": "2020-08-21T13:03:35.971282Z"
    }
   },
   "outputs": [
    {
     "name": "stderr",
     "output_type": "stream",
     "text": [
      "C:\\Users\\Ralph Caubalejo\\anaconda3\\lib\\site-packages\\pandas\\core\\indexing.py:670: SettingWithCopyWarning: \n",
      "A value is trying to be set on a copy of a slice from a DataFrame\n",
      "\n",
      "See the caveats in the documentation: https://pandas.pydata.org/pandas-docs/stable/user_guide/indexing.html#returning-a-view-versus-a-copy\n",
      "  self._setitem_with_indexer(indexer, value)\n"
     ]
    }
   ],
   "source": [
    "table2['Amount']= pd.to_numeric(table2['Amount'], errors='coerce')\n",
    "table2['No_of_Bedroom']= pd.to_numeric(table2['No_of_Bedroom'], errors='coerce')\n",
    "table2['No_of_Baths']= pd.to_numeric(table2['No_of_Baths'], errors='coerce')\n",
    "table2['Floor_Area']= pd.to_numeric(table2['Floor_Area'], errors='coerce')\n",
    "table2['Latitude']= pd.to_numeric(table2['Latitude'], errors='coerce')\n",
    "table2['L0ngitude']= pd.to_numeric(table2['L0ngitude'], errors='coerce')\n",
    "table2=table2.drop((table2[table2['Amount']> 30_000_000]).index)\n",
    "table2['newAm'] = table2['Amenities']\n",
    "table2['countnewAm'] = table2['Amenities']\n",
    "for x1,x2 in table2['Amenities'].items():\n",
    "    x3 = x2.replace('\\n','').replace('   ','').replace('  ',':').replace('Amenities ','').strip().split(':')\n",
    "    table2['newAm'].loc[x1]=x3\n",
    "    try:\n",
    "        table2['countnewAm'].loc[x1]=len(np.unique(x3))\n",
    "    except:\n",
    "        table2['countnewAm'].loc[x1]=0\n",
    "        pass\n",
    "    \n",
    "table2=table2.drop(['Amenities','newAm'],axis=1)\n",
    "table2=table2.drop(table2[table2.duplicated()].index)\n",
    "table2['floor_number']=table2['Index1'].str.extract(r'Unit/Floor Number   ([0-9]{2}|[0-9])')\n",
    "table2['floor_number']= pd.to_numeric(table2['floor_number'], errors='coerce')\n",
    "table2=table2.drop('Index1',axis=1)\n",
    "table2=table2.drop(table2[table2.duplicated()].index)\n",
    "table2=table2.drop((table2[table2['Floor_Area']> 200]).index)\n",
    "table2=table2.drop((table2[table2['Floor_Area']< 10]).index)\n",
    "table2=table2.drop((table2[table2['floor_number']> 70]).index)\n",
    "table2=table2.drop((table2[table2['Latitude']>15]).index)\n",
    "table2=table2.drop((table2[table2['Amount']< 2000000]).index)\n",
    "table2=table2.drop(table2[table2.duplicated()].index)\n",
    "table2=table2.drop(9944)\n",
    "table2=table2.dropna()\n"
   ]
  },
  {
   "cell_type": "code",
   "execution_count": 6,
   "metadata": {
    "ExecuteTime": {
     "end_time": "2020-08-21T13:03:40.849725Z",
     "start_time": "2020-08-21T13:03:40.830774Z"
    }
   },
   "outputs": [
    {
     "data": {
      "text/html": [
       "<div>\n",
       "<style scoped>\n",
       "    .dataframe tbody tr th:only-of-type {\n",
       "        vertical-align: middle;\n",
       "    }\n",
       "\n",
       "    .dataframe tbody tr th {\n",
       "        vertical-align: top;\n",
       "    }\n",
       "\n",
       "    .dataframe thead th {\n",
       "        text-align: right;\n",
       "    }\n",
       "</style>\n",
       "<table border=\"1\" class=\"dataframe\">\n",
       "  <thead>\n",
       "    <tr style=\"text-align: right;\">\n",
       "      <th></th>\n",
       "      <th>City</th>\n",
       "      <th>Amount</th>\n",
       "      <th>No_of_Bedroom</th>\n",
       "      <th>No_of_Baths</th>\n",
       "      <th>Floor_Area</th>\n",
       "      <th>Latitude</th>\n",
       "      <th>L0ngitude</th>\n",
       "      <th>countnewAm</th>\n",
       "      <th>floor_number</th>\n",
       "    </tr>\n",
       "  </thead>\n",
       "  <tbody>\n",
       "    <tr>\n",
       "      <th>2</th>\n",
       "      <td>Manila</td>\n",
       "      <td>8500000.0</td>\n",
       "      <td>2.0</td>\n",
       "      <td>2.0</td>\n",
       "      <td>52.000</td>\n",
       "      <td>14.558112</td>\n",
       "      <td>120.993771</td>\n",
       "      <td>17</td>\n",
       "      <td>10.0</td>\n",
       "    </tr>\n",
       "    <tr>\n",
       "      <th>6</th>\n",
       "      <td>San Juan</td>\n",
       "      <td>15700000.0</td>\n",
       "      <td>2.0</td>\n",
       "      <td>1.0</td>\n",
       "      <td>132.390</td>\n",
       "      <td>14.603980</td>\n",
       "      <td>121.045000</td>\n",
       "      <td>4</td>\n",
       "      <td>2.0</td>\n",
       "    </tr>\n",
       "    <tr>\n",
       "      <th>7</th>\n",
       "      <td>Quezon City</td>\n",
       "      <td>3300000.0</td>\n",
       "      <td>1.0</td>\n",
       "      <td>1.0</td>\n",
       "      <td>23.000</td>\n",
       "      <td>14.651189</td>\n",
       "      <td>121.032754</td>\n",
       "      <td>24</td>\n",
       "      <td>18.0</td>\n",
       "    </tr>\n",
       "    <tr>\n",
       "      <th>9</th>\n",
       "      <td>Mandaluyong</td>\n",
       "      <td>4500000.0</td>\n",
       "      <td>1.0</td>\n",
       "      <td>1.0</td>\n",
       "      <td>30.260</td>\n",
       "      <td>14.572573</td>\n",
       "      <td>121.048343</td>\n",
       "      <td>33</td>\n",
       "      <td>15.0</td>\n",
       "    </tr>\n",
       "    <tr>\n",
       "      <th>10</th>\n",
       "      <td>Pasig</td>\n",
       "      <td>20645110.0</td>\n",
       "      <td>3.0</td>\n",
       "      <td>3.0</td>\n",
       "      <td>129.000</td>\n",
       "      <td>14.582640</td>\n",
       "      <td>121.078700</td>\n",
       "      <td>93</td>\n",
       "      <td>28.0</td>\n",
       "    </tr>\n",
       "    <tr>\n",
       "      <th>...</th>\n",
       "      <td>...</td>\n",
       "      <td>...</td>\n",
       "      <td>...</td>\n",
       "      <td>...</td>\n",
       "      <td>...</td>\n",
       "      <td>...</td>\n",
       "      <td>...</td>\n",
       "      <td>...</td>\n",
       "      <td>...</td>\n",
       "    </tr>\n",
       "    <tr>\n",
       "      <th>14810</th>\n",
       "      <td>Las Piñas</td>\n",
       "      <td>6500000.0</td>\n",
       "      <td>2.0</td>\n",
       "      <td>1.0</td>\n",
       "      <td>58.000</td>\n",
       "      <td>14.468350</td>\n",
       "      <td>120.969780</td>\n",
       "      <td>36</td>\n",
       "      <td>5.0</td>\n",
       "    </tr>\n",
       "    <tr>\n",
       "      <th>14813</th>\n",
       "      <td>Mandaluyong</td>\n",
       "      <td>2300000.0</td>\n",
       "      <td>1.0</td>\n",
       "      <td>1.0</td>\n",
       "      <td>20.010</td>\n",
       "      <td>14.574420</td>\n",
       "      <td>121.050700</td>\n",
       "      <td>20</td>\n",
       "      <td>15.0</td>\n",
       "    </tr>\n",
       "    <tr>\n",
       "      <th>14815</th>\n",
       "      <td>Makati</td>\n",
       "      <td>10300000.0</td>\n",
       "      <td>1.0</td>\n",
       "      <td>1.0</td>\n",
       "      <td>29.000</td>\n",
       "      <td>14.566278</td>\n",
       "      <td>121.037021</td>\n",
       "      <td>34</td>\n",
       "      <td>10.0</td>\n",
       "    </tr>\n",
       "    <tr>\n",
       "      <th>14818</th>\n",
       "      <td>Quezon City</td>\n",
       "      <td>5400000.0</td>\n",
       "      <td>2.0</td>\n",
       "      <td>2.0</td>\n",
       "      <td>92.512</td>\n",
       "      <td>14.662144</td>\n",
       "      <td>121.044309</td>\n",
       "      <td>6</td>\n",
       "      <td>30.0</td>\n",
       "    </tr>\n",
       "    <tr>\n",
       "      <th>14819</th>\n",
       "      <td>Quezon City</td>\n",
       "      <td>3124000.0</td>\n",
       "      <td>1.0</td>\n",
       "      <td>1.0</td>\n",
       "      <td>27.900</td>\n",
       "      <td>14.615949</td>\n",
       "      <td>121.054178</td>\n",
       "      <td>38</td>\n",
       "      <td>27.0</td>\n",
       "    </tr>\n",
       "  </tbody>\n",
       "</table>\n",
       "<p>6521 rows × 9 columns</p>\n",
       "</div>"
      ],
      "text/plain": [
       "              City      Amount  No_of_Bedroom  No_of_Baths  Floor_Area  \\\n",
       "2           Manila   8500000.0            2.0          2.0      52.000   \n",
       "6         San Juan  15700000.0            2.0          1.0     132.390   \n",
       "7      Quezon City   3300000.0            1.0          1.0      23.000   \n",
       "9      Mandaluyong   4500000.0            1.0          1.0      30.260   \n",
       "10           Pasig  20645110.0            3.0          3.0     129.000   \n",
       "...            ...         ...            ...          ...         ...   \n",
       "14810    Las Piñas   6500000.0            2.0          1.0      58.000   \n",
       "14813  Mandaluyong   2300000.0            1.0          1.0      20.010   \n",
       "14815       Makati  10300000.0            1.0          1.0      29.000   \n",
       "14818  Quezon City   5400000.0            2.0          2.0      92.512   \n",
       "14819  Quezon City   3124000.0            1.0          1.0      27.900   \n",
       "\n",
       "        Latitude   L0ngitude countnewAm  floor_number  \n",
       "2      14.558112  120.993771         17          10.0  \n",
       "6      14.603980  121.045000          4           2.0  \n",
       "7      14.651189  121.032754         24          18.0  \n",
       "9      14.572573  121.048343         33          15.0  \n",
       "10     14.582640  121.078700         93          28.0  \n",
       "...          ...         ...        ...           ...  \n",
       "14810  14.468350  120.969780         36           5.0  \n",
       "14813  14.574420  121.050700         20          15.0  \n",
       "14815  14.566278  121.037021         34          10.0  \n",
       "14818  14.662144  121.044309          6          30.0  \n",
       "14819  14.615949  121.054178         38          27.0  \n",
       "\n",
       "[6521 rows x 9 columns]"
      ]
     },
     "execution_count": 6,
     "metadata": {},
     "output_type": "execute_result"
    }
   ],
   "source": [
    "table2"
   ]
  },
  {
   "cell_type": "code",
   "execution_count": null,
   "metadata": {},
   "outputs": [],
   "source": []
  },
  {
   "cell_type": "code",
   "execution_count": 7,
   "metadata": {
    "ExecuteTime": {
     "end_time": "2020-08-21T13:03:46.363855Z",
     "start_time": "2020-08-21T13:03:46.352852Z"
    }
   },
   "outputs": [],
   "source": [
    "table2['City'] = table2['City'].astype('category')\n",
    "citylist = list(zip(table2['City'].cat.codes, table2['City']))\n",
    "table2['City'] = table2['City'].cat.codes"
   ]
  },
  {
   "cell_type": "code",
   "execution_count": 8,
   "metadata": {
    "ExecuteTime": {
     "end_time": "2020-08-21T13:03:48.863658Z",
     "start_time": "2020-08-21T13:03:48.857673Z"
    }
   },
   "outputs": [
    {
     "data": {
      "text/plain": [
       "{(0, 'Antipolo'),\n",
       " (1, 'Las Piñas'),\n",
       " (2, 'Makati'),\n",
       " (3, 'Mandaluyong'),\n",
       " (4, 'Manila'),\n",
       " (5, 'Muntinlupa'),\n",
       " (6, 'Parañaque'),\n",
       " (7, 'Pasay'),\n",
       " (8, 'Pasig'),\n",
       " (9, 'Quezon City'),\n",
       " (10, 'San Juan'),\n",
       " (11, 'Taguig')}"
      ]
     },
     "execution_count": 8,
     "metadata": {},
     "output_type": "execute_result"
    }
   ],
   "source": [
    "set(citylist)"
   ]
  },
  {
   "cell_type": "code",
   "execution_count": 9,
   "metadata": {
    "ExecuteTime": {
     "end_time": "2020-08-21T13:03:52.322904Z",
     "start_time": "2020-08-21T13:03:52.305949Z"
    }
   },
   "outputs": [
    {
     "data": {
      "text/html": [
       "<div>\n",
       "<style scoped>\n",
       "    .dataframe tbody tr th:only-of-type {\n",
       "        vertical-align: middle;\n",
       "    }\n",
       "\n",
       "    .dataframe tbody tr th {\n",
       "        vertical-align: top;\n",
       "    }\n",
       "\n",
       "    .dataframe thead th {\n",
       "        text-align: right;\n",
       "    }\n",
       "</style>\n",
       "<table border=\"1\" class=\"dataframe\">\n",
       "  <thead>\n",
       "    <tr style=\"text-align: right;\">\n",
       "      <th></th>\n",
       "      <th>City</th>\n",
       "      <th>Amount</th>\n",
       "      <th>No_of_Bedroom</th>\n",
       "      <th>No_of_Baths</th>\n",
       "      <th>Floor_Area</th>\n",
       "      <th>Latitude</th>\n",
       "      <th>L0ngitude</th>\n",
       "      <th>countnewAm</th>\n",
       "      <th>floor_number</th>\n",
       "    </tr>\n",
       "  </thead>\n",
       "  <tbody>\n",
       "    <tr>\n",
       "      <th>2</th>\n",
       "      <td>4</td>\n",
       "      <td>8500000.0</td>\n",
       "      <td>2.0</td>\n",
       "      <td>2.0</td>\n",
       "      <td>52.000</td>\n",
       "      <td>14.558112</td>\n",
       "      <td>120.993771</td>\n",
       "      <td>17</td>\n",
       "      <td>10.0</td>\n",
       "    </tr>\n",
       "    <tr>\n",
       "      <th>6</th>\n",
       "      <td>10</td>\n",
       "      <td>15700000.0</td>\n",
       "      <td>2.0</td>\n",
       "      <td>1.0</td>\n",
       "      <td>132.390</td>\n",
       "      <td>14.603980</td>\n",
       "      <td>121.045000</td>\n",
       "      <td>4</td>\n",
       "      <td>2.0</td>\n",
       "    </tr>\n",
       "    <tr>\n",
       "      <th>7</th>\n",
       "      <td>9</td>\n",
       "      <td>3300000.0</td>\n",
       "      <td>1.0</td>\n",
       "      <td>1.0</td>\n",
       "      <td>23.000</td>\n",
       "      <td>14.651189</td>\n",
       "      <td>121.032754</td>\n",
       "      <td>24</td>\n",
       "      <td>18.0</td>\n",
       "    </tr>\n",
       "    <tr>\n",
       "      <th>9</th>\n",
       "      <td>3</td>\n",
       "      <td>4500000.0</td>\n",
       "      <td>1.0</td>\n",
       "      <td>1.0</td>\n",
       "      <td>30.260</td>\n",
       "      <td>14.572573</td>\n",
       "      <td>121.048343</td>\n",
       "      <td>33</td>\n",
       "      <td>15.0</td>\n",
       "    </tr>\n",
       "    <tr>\n",
       "      <th>10</th>\n",
       "      <td>8</td>\n",
       "      <td>20645110.0</td>\n",
       "      <td>3.0</td>\n",
       "      <td>3.0</td>\n",
       "      <td>129.000</td>\n",
       "      <td>14.582640</td>\n",
       "      <td>121.078700</td>\n",
       "      <td>93</td>\n",
       "      <td>28.0</td>\n",
       "    </tr>\n",
       "    <tr>\n",
       "      <th>...</th>\n",
       "      <td>...</td>\n",
       "      <td>...</td>\n",
       "      <td>...</td>\n",
       "      <td>...</td>\n",
       "      <td>...</td>\n",
       "      <td>...</td>\n",
       "      <td>...</td>\n",
       "      <td>...</td>\n",
       "      <td>...</td>\n",
       "    </tr>\n",
       "    <tr>\n",
       "      <th>14810</th>\n",
       "      <td>1</td>\n",
       "      <td>6500000.0</td>\n",
       "      <td>2.0</td>\n",
       "      <td>1.0</td>\n",
       "      <td>58.000</td>\n",
       "      <td>14.468350</td>\n",
       "      <td>120.969780</td>\n",
       "      <td>36</td>\n",
       "      <td>5.0</td>\n",
       "    </tr>\n",
       "    <tr>\n",
       "      <th>14813</th>\n",
       "      <td>3</td>\n",
       "      <td>2300000.0</td>\n",
       "      <td>1.0</td>\n",
       "      <td>1.0</td>\n",
       "      <td>20.010</td>\n",
       "      <td>14.574420</td>\n",
       "      <td>121.050700</td>\n",
       "      <td>20</td>\n",
       "      <td>15.0</td>\n",
       "    </tr>\n",
       "    <tr>\n",
       "      <th>14815</th>\n",
       "      <td>2</td>\n",
       "      <td>10300000.0</td>\n",
       "      <td>1.0</td>\n",
       "      <td>1.0</td>\n",
       "      <td>29.000</td>\n",
       "      <td>14.566278</td>\n",
       "      <td>121.037021</td>\n",
       "      <td>34</td>\n",
       "      <td>10.0</td>\n",
       "    </tr>\n",
       "    <tr>\n",
       "      <th>14818</th>\n",
       "      <td>9</td>\n",
       "      <td>5400000.0</td>\n",
       "      <td>2.0</td>\n",
       "      <td>2.0</td>\n",
       "      <td>92.512</td>\n",
       "      <td>14.662144</td>\n",
       "      <td>121.044309</td>\n",
       "      <td>6</td>\n",
       "      <td>30.0</td>\n",
       "    </tr>\n",
       "    <tr>\n",
       "      <th>14819</th>\n",
       "      <td>9</td>\n",
       "      <td>3124000.0</td>\n",
       "      <td>1.0</td>\n",
       "      <td>1.0</td>\n",
       "      <td>27.900</td>\n",
       "      <td>14.615949</td>\n",
       "      <td>121.054178</td>\n",
       "      <td>38</td>\n",
       "      <td>27.0</td>\n",
       "    </tr>\n",
       "  </tbody>\n",
       "</table>\n",
       "<p>6521 rows × 9 columns</p>\n",
       "</div>"
      ],
      "text/plain": [
       "       City      Amount  No_of_Bedroom  No_of_Baths  Floor_Area   Latitude  \\\n",
       "2         4   8500000.0            2.0          2.0      52.000  14.558112   \n",
       "6        10  15700000.0            2.0          1.0     132.390  14.603980   \n",
       "7         9   3300000.0            1.0          1.0      23.000  14.651189   \n",
       "9         3   4500000.0            1.0          1.0      30.260  14.572573   \n",
       "10        8  20645110.0            3.0          3.0     129.000  14.582640   \n",
       "...     ...         ...            ...          ...         ...        ...   \n",
       "14810     1   6500000.0            2.0          1.0      58.000  14.468350   \n",
       "14813     3   2300000.0            1.0          1.0      20.010  14.574420   \n",
       "14815     2  10300000.0            1.0          1.0      29.000  14.566278   \n",
       "14818     9   5400000.0            2.0          2.0      92.512  14.662144   \n",
       "14819     9   3124000.0            1.0          1.0      27.900  14.615949   \n",
       "\n",
       "        L0ngitude countnewAm  floor_number  \n",
       "2      120.993771         17          10.0  \n",
       "6      121.045000          4           2.0  \n",
       "7      121.032754         24          18.0  \n",
       "9      121.048343         33          15.0  \n",
       "10     121.078700         93          28.0  \n",
       "...           ...        ...           ...  \n",
       "14810  120.969780         36           5.0  \n",
       "14813  121.050700         20          15.0  \n",
       "14815  121.037021         34          10.0  \n",
       "14818  121.044309          6          30.0  \n",
       "14819  121.054178         38          27.0  \n",
       "\n",
       "[6521 rows x 9 columns]"
      ]
     },
     "execution_count": 9,
     "metadata": {},
     "output_type": "execute_result"
    }
   ],
   "source": [
    "table2"
   ]
  },
  {
   "cell_type": "code",
   "execution_count": 50,
   "metadata": {
    "ExecuteTime": {
     "end_time": "2020-08-21T06:18:01.500309Z",
     "start_time": "2020-08-21T06:18:01.440387Z"
    }
   },
   "outputs": [],
   "source": [
    "table2.to_csv('lamudi_clean.csv', index=False)"
   ]
  },
  {
   "cell_type": "code",
   "execution_count": 11,
   "metadata": {
    "ExecuteTime": {
     "end_time": "2020-08-21T13:04:01.318157Z",
     "start_time": "2020-08-21T13:04:01.305158Z"
    }
   },
   "outputs": [],
   "source": [
    "table2 = pd.read_csv('lamudi_clean.csv')"
   ]
  },
  {
   "cell_type": "code",
   "execution_count": 12,
   "metadata": {
    "ExecuteTime": {
     "end_time": "2020-08-21T13:04:01.839467Z",
     "start_time": "2020-08-21T13:04:01.825505Z"
    }
   },
   "outputs": [
    {
     "data": {
      "text/html": [
       "<div>\n",
       "<style scoped>\n",
       "    .dataframe tbody tr th:only-of-type {\n",
       "        vertical-align: middle;\n",
       "    }\n",
       "\n",
       "    .dataframe tbody tr th {\n",
       "        vertical-align: top;\n",
       "    }\n",
       "\n",
       "    .dataframe thead th {\n",
       "        text-align: right;\n",
       "    }\n",
       "</style>\n",
       "<table border=\"1\" class=\"dataframe\">\n",
       "  <thead>\n",
       "    <tr style=\"text-align: right;\">\n",
       "      <th></th>\n",
       "      <th>City</th>\n",
       "      <th>Amount</th>\n",
       "      <th>No_of_Bedroom</th>\n",
       "      <th>No_of_Baths</th>\n",
       "      <th>Floor_Area</th>\n",
       "      <th>Latitude</th>\n",
       "      <th>L0ngitude</th>\n",
       "      <th>countnewAm</th>\n",
       "      <th>floor_number</th>\n",
       "    </tr>\n",
       "  </thead>\n",
       "  <tbody>\n",
       "    <tr>\n",
       "      <th>0</th>\n",
       "      <td>4</td>\n",
       "      <td>8500000.0</td>\n",
       "      <td>2.0</td>\n",
       "      <td>2.0</td>\n",
       "      <td>52.000</td>\n",
       "      <td>14.558112</td>\n",
       "      <td>120.993771</td>\n",
       "      <td>17</td>\n",
       "      <td>10.0</td>\n",
       "    </tr>\n",
       "    <tr>\n",
       "      <th>1</th>\n",
       "      <td>10</td>\n",
       "      <td>15700000.0</td>\n",
       "      <td>2.0</td>\n",
       "      <td>1.0</td>\n",
       "      <td>132.390</td>\n",
       "      <td>14.603980</td>\n",
       "      <td>121.045000</td>\n",
       "      <td>4</td>\n",
       "      <td>2.0</td>\n",
       "    </tr>\n",
       "    <tr>\n",
       "      <th>2</th>\n",
       "      <td>9</td>\n",
       "      <td>3300000.0</td>\n",
       "      <td>1.0</td>\n",
       "      <td>1.0</td>\n",
       "      <td>23.000</td>\n",
       "      <td>14.651189</td>\n",
       "      <td>121.032754</td>\n",
       "      <td>24</td>\n",
       "      <td>18.0</td>\n",
       "    </tr>\n",
       "    <tr>\n",
       "      <th>3</th>\n",
       "      <td>3</td>\n",
       "      <td>4500000.0</td>\n",
       "      <td>1.0</td>\n",
       "      <td>1.0</td>\n",
       "      <td>30.260</td>\n",
       "      <td>14.572573</td>\n",
       "      <td>121.048343</td>\n",
       "      <td>33</td>\n",
       "      <td>15.0</td>\n",
       "    </tr>\n",
       "    <tr>\n",
       "      <th>4</th>\n",
       "      <td>8</td>\n",
       "      <td>20645110.0</td>\n",
       "      <td>3.0</td>\n",
       "      <td>3.0</td>\n",
       "      <td>129.000</td>\n",
       "      <td>14.582640</td>\n",
       "      <td>121.078700</td>\n",
       "      <td>93</td>\n",
       "      <td>28.0</td>\n",
       "    </tr>\n",
       "    <tr>\n",
       "      <th>...</th>\n",
       "      <td>...</td>\n",
       "      <td>...</td>\n",
       "      <td>...</td>\n",
       "      <td>...</td>\n",
       "      <td>...</td>\n",
       "      <td>...</td>\n",
       "      <td>...</td>\n",
       "      <td>...</td>\n",
       "      <td>...</td>\n",
       "    </tr>\n",
       "    <tr>\n",
       "      <th>6516</th>\n",
       "      <td>1</td>\n",
       "      <td>6500000.0</td>\n",
       "      <td>2.0</td>\n",
       "      <td>1.0</td>\n",
       "      <td>58.000</td>\n",
       "      <td>14.468350</td>\n",
       "      <td>120.969780</td>\n",
       "      <td>36</td>\n",
       "      <td>5.0</td>\n",
       "    </tr>\n",
       "    <tr>\n",
       "      <th>6517</th>\n",
       "      <td>3</td>\n",
       "      <td>2300000.0</td>\n",
       "      <td>1.0</td>\n",
       "      <td>1.0</td>\n",
       "      <td>20.010</td>\n",
       "      <td>14.574420</td>\n",
       "      <td>121.050700</td>\n",
       "      <td>20</td>\n",
       "      <td>15.0</td>\n",
       "    </tr>\n",
       "    <tr>\n",
       "      <th>6518</th>\n",
       "      <td>2</td>\n",
       "      <td>10300000.0</td>\n",
       "      <td>1.0</td>\n",
       "      <td>1.0</td>\n",
       "      <td>29.000</td>\n",
       "      <td>14.566278</td>\n",
       "      <td>121.037020</td>\n",
       "      <td>34</td>\n",
       "      <td>10.0</td>\n",
       "    </tr>\n",
       "    <tr>\n",
       "      <th>6519</th>\n",
       "      <td>9</td>\n",
       "      <td>5400000.0</td>\n",
       "      <td>2.0</td>\n",
       "      <td>2.0</td>\n",
       "      <td>92.512</td>\n",
       "      <td>14.662144</td>\n",
       "      <td>121.044309</td>\n",
       "      <td>6</td>\n",
       "      <td>30.0</td>\n",
       "    </tr>\n",
       "    <tr>\n",
       "      <th>6520</th>\n",
       "      <td>9</td>\n",
       "      <td>3124000.0</td>\n",
       "      <td>1.0</td>\n",
       "      <td>1.0</td>\n",
       "      <td>27.900</td>\n",
       "      <td>14.615949</td>\n",
       "      <td>121.054178</td>\n",
       "      <td>38</td>\n",
       "      <td>27.0</td>\n",
       "    </tr>\n",
       "  </tbody>\n",
       "</table>\n",
       "<p>6521 rows × 9 columns</p>\n",
       "</div>"
      ],
      "text/plain": [
       "      City      Amount  No_of_Bedroom  No_of_Baths  Floor_Area   Latitude  \\\n",
       "0        4   8500000.0            2.0          2.0      52.000  14.558112   \n",
       "1       10  15700000.0            2.0          1.0     132.390  14.603980   \n",
       "2        9   3300000.0            1.0          1.0      23.000  14.651189   \n",
       "3        3   4500000.0            1.0          1.0      30.260  14.572573   \n",
       "4        8  20645110.0            3.0          3.0     129.000  14.582640   \n",
       "...    ...         ...            ...          ...         ...        ...   \n",
       "6516     1   6500000.0            2.0          1.0      58.000  14.468350   \n",
       "6517     3   2300000.0            1.0          1.0      20.010  14.574420   \n",
       "6518     2  10300000.0            1.0          1.0      29.000  14.566278   \n",
       "6519     9   5400000.0            2.0          2.0      92.512  14.662144   \n",
       "6520     9   3124000.0            1.0          1.0      27.900  14.615949   \n",
       "\n",
       "       L0ngitude  countnewAm  floor_number  \n",
       "0     120.993771          17          10.0  \n",
       "1     121.045000           4           2.0  \n",
       "2     121.032754          24          18.0  \n",
       "3     121.048343          33          15.0  \n",
       "4     121.078700          93          28.0  \n",
       "...          ...         ...           ...  \n",
       "6516  120.969780          36           5.0  \n",
       "6517  121.050700          20          15.0  \n",
       "6518  121.037020          34          10.0  \n",
       "6519  121.044309           6          30.0  \n",
       "6520  121.054178          38          27.0  \n",
       "\n",
       "[6521 rows x 9 columns]"
      ]
     },
     "execution_count": 12,
     "metadata": {},
     "output_type": "execute_result"
    }
   ],
   "source": [
    "table2"
   ]
  },
  {
   "cell_type": "markdown",
   "metadata": {},
   "source": [
    "# Optimization and Tuning the Parameters"
   ]
  },
  {
   "cell_type": "code",
   "execution_count": 13,
   "metadata": {
    "ExecuteTime": {
     "end_time": "2020-08-21T13:04:03.647498Z",
     "start_time": "2020-08-21T13:04:03.641508Z"
    }
   },
   "outputs": [],
   "source": [
    "table = pd.DataFrame(columns = ['Train_Accuracy','Test_Accuracy', 'Optimal Parameter'])"
   ]
  },
  {
   "cell_type": "markdown",
   "metadata": {},
   "source": [
    "# KNN Optimization"
   ]
  },
  {
   "cell_type": "code",
   "execution_count": 14,
   "metadata": {
    "ExecuteTime": {
     "end_time": "2020-08-21T13:04:08.662818Z",
     "start_time": "2020-08-21T13:04:04.569584Z"
    }
   },
   "outputs": [
    {
     "name": "stderr",
     "output_type": "stream",
     "text": [
      "Iter: 5:  80%|████████  | 76/95 [00:03<00:00, 19.25it/s]\n"
     ]
    },
    {
     "data": {
      "image/png": "[encoded data removed]",
      "text/plain": [
       "<Figure size 288x288 with 1 Axes>"
      ]
     },
     "metadata": {
      "needs_background": "light"
     },
     "output_type": "display_data"
    },
    {
     "name": "stdout",
     "output_type": "stream",
     "text": [
      "Highest Test Set Achieved = 0.643385\n",
      "Best Nearest Neighbor Parameter = 12\n"
     ]
    }
   ],
   "source": [
    "X = table2.drop('Amount',axis=1)\n",
    "y = table2['Amount']\n",
    "yz=5\n",
    "neighbors_settings = range(1, 20)\n",
    "lahat_train = pd.DataFrame()\n",
    "lahat_test = pd.DataFrame()\n",
    "\n",
    "with tqdm(total=yz*len(neighbors_settings)) as pb:\n",
    "    for seedN in range(1,yz,1):\n",
    "        from sklearn.model_selection import train_test_split\n",
    "        X_train, X_test, y_train, y_test = train_test_split(X, y,\n",
    "                                            test_size=0.25, random_state=seedN)\n",
    "\n",
    "        training_accuracy = []\n",
    "        test_accuracy = []\n",
    "\n",
    "        pb.set_description(f'Iter: {seedN+1}')\n",
    "        for n_neighbors in neighbors_settings:   \n",
    "            clf = KNeighborsRegressor(n_neighbors=n_neighbors)  # build the model\n",
    "            clf.fit(X_train, y_train)\n",
    "\n",
    "            training_accuracy.append(clf.score(X_train, y_train)) # record training set accuracy\n",
    "            test_accuracy.append(clf.score(X_test, y_test))   # record generalization accuracy\n",
    "            \n",
    "            pb.update(1)\n",
    "            \n",
    "        lahat_train[seedN]= training_accuracy\n",
    "        lahat_test[seedN] = test_accuracy\n",
    "\n",
    "fig = plt.figure(figsize=(4,4))\n",
    "plt.errorbar(neighbors_settings, lahat_train.mean(axis=1),\n",
    "             yerr=lahat_train.var(axis=1), label=\"training accuracy\")\n",
    "plt.errorbar(neighbors_settings, lahat_test.mean(axis=1),\n",
    "             yerr=lahat_test.var(axis=1), label=\"test accuracy\")\n",
    "\n",
    "plt.ylabel(\"Accuracy\")\n",
    "plt.xlabel(\"n_neighbors\")\n",
    "plt.ylim(0,1)\n",
    "plt.legend()\n",
    "plt.show()\n",
    "\n",
    "n_neighbor_best= np.argmax(lahat_test.mean(axis=1)) +1\n",
    "print(\"Highest Test Set Achieved = %f\" % np.amax(lahat_test.mean(axis=1)))\n",
    "print(\"Best Nearest Neighbor Parameter = %d\" %n_neighbor_best)\n",
    "table.loc['KNN'] = [np.amax(lahat_train.mean(axis=1)),np.amax(lahat_test.mean(axis=1)), n_neighbor_best]"
   ]
  },
  {
   "cell_type": "markdown",
   "metadata": {},
   "source": [
    "# Linear Regression Optimization"
   ]
  },
  {
   "cell_type": "code",
   "execution_count": 15,
   "metadata": {
    "ExecuteTime": {
     "end_time": "2020-08-21T13:04:08.838317Z",
     "start_time": "2020-08-21T13:04:08.663800Z"
    }
   },
   "outputs": [
    {
     "name": "stderr",
     "output_type": "stream",
     "text": [
      "Iter: 5: 100%|██████████| 5/5 [00:00<00:00, 113.94it/s]\n"
     ]
    },
    {
     "data": {
      "image/png": "[encoded data removed]",
      "text/plain": [
       "<Figure size 360x432 with 1 Axes>"
      ]
     },
     "metadata": {
      "needs_background": "light"
     },
     "output_type": "display_data"
    },
    {
     "name": "stdout",
     "output_type": "stream",
     "text": [
      "Highest Test Set Achieved = 0.625265\n"
     ]
    }
   ],
   "source": [
    "X = table2.drop('Amount',axis=1)\n",
    "y = table2['Amount']\n",
    "yz=5\n",
    "neighbors_settings = range(0, 1)\n",
    "lahat_train = pd.DataFrame()\n",
    "lahat_test = pd.DataFrame()\n",
    "\n",
    "with tqdm(total=yz*len(neighbors_settings)) as pb:\n",
    "    for seedN in range(0,yz):\n",
    "        from sklearn.model_selection import train_test_split\n",
    "        X_train, X_test, y_train, y_test = train_test_split(X, y,\n",
    "                                            test_size=0.25, random_state=seedN)\n",
    "\n",
    "        training_accuracy = []\n",
    "        test_accuracy = []\n",
    "\n",
    "        pb.set_description(f'Iter: {seedN+1}')\n",
    "        for n_neighbors in neighbors_settings:   \n",
    "            clf = LinearRegression()  # build the model\n",
    "            clf.fit(X_train, y_train)\n",
    "\n",
    "            training_accuracy.append(clf.score(X_train, y_train)) # record training set accuracy\n",
    "            test_accuracy.append(clf.score(X_test, y_test))   # record generalization accuracy\n",
    "            \n",
    "            pb.update(1)\n",
    "            \n",
    "        lahat_train[seedN]= training_accuracy\n",
    "        lahat_test[seedN] = test_accuracy\n",
    "\n",
    "fig = plt.figure(figsize=(5, 6))\n",
    "plt.errorbar(neighbors_settings, lahat_train.mean(axis=1),\n",
    "             yerr=lahat_train.var(axis=1), label=\"training accuracy\")\n",
    "plt.errorbar(neighbors_settings, lahat_test.mean(axis=1),\n",
    "             yerr=lahat_test.var(axis=1), label=\"test accuracy\")\n",
    "\n",
    "plt.ylabel(\"Accuracy\")\n",
    "plt.xlabel(\"n_neighbors\")\n",
    "plt.ylim(0,1)\n",
    "plt.legend()\n",
    "plt.show()\n",
    "\n",
    "print(\"Highest Test Set Achieved = %f\" % np.amax(lahat_test.mean(axis=1)))\n",
    "\n",
    "table.loc['LR'] = [np.amax(lahat_train.mean(axis=1)),np.amax(lahat_test.mean(axis=1)), 'N/A']\n"
   ]
  },
  {
   "cell_type": "markdown",
   "metadata": {},
   "source": [
    "# Ridge Regression Optimization"
   ]
  },
  {
   "cell_type": "code",
   "execution_count": 16,
   "metadata": {
    "ExecuteTime": {
     "end_time": "2020-08-21T13:04:09.327085Z",
     "start_time": "2020-08-21T13:04:08.840311Z"
    }
   },
   "outputs": [
    {
     "name": "stderr",
     "output_type": "stream",
     "text": [
      "Iter: 5: 100%|██████████| 95/95 [00:00<00:00, 303.31it/s]\n"
     ]
    },
    {
     "data": {
      "image/png": "[encoded data removed]",
      "text/plain": [
       "<Figure size 288x288 with 1 Axes>"
      ]
     },
     "metadata": {
      "needs_background": "light"
     },
     "output_type": "display_data"
    },
    {
     "name": "stdout",
     "output_type": "stream",
     "text": [
      "Highest Test Set Achieved = 0.625265\n",
      "Best Alpha = 1e-12\n"
     ]
    }
   ],
   "source": [
    "X = table2.drop('Amount',axis=1)\n",
    "y = table2['Amount']\n",
    "yz=5\n",
    "neighbors_settings=[1e-12,1e-11,1e-10,1e-9,1e-8,1e-7,1e-6,1e-5,1e-4,\n",
    "                            1e-3,1e-2,0.1, 0.2,0.4,0.75, 1, 1.5, 3, 5]\n",
    "lahat_train = pd.DataFrame()\n",
    "lahat_test = pd.DataFrame()\n",
    "\n",
    "with tqdm(total=yz*len(neighbors_settings)) as pb:\n",
    "    for seedN in range(0,yz):\n",
    "        from sklearn.model_selection import train_test_split\n",
    "        X_train, X_test, y_train, y_test = train_test_split(X, y,\n",
    "                                            test_size=0.25, random_state=seedN)\n",
    "\n",
    "        training_accuracy = []\n",
    "        test_accuracy = []\n",
    "\n",
    "        pb.set_description(f'Iter: {seedN+1}')\n",
    "        \n",
    "        neighbors_settings=[1e-12,1e-11,1e-10,1e-9,1e-8,1e-7,1e-6,1e-5,1e-4,\n",
    "                            1e-3,1e-2,0.1, 0.2,0.4,0.75, 1, 1.5, 3, 5]\n",
    "        \n",
    "        for n_neighbors in neighbors_settings:   \n",
    "            clf = Ridge(alpha=n_neighbors)  # build the model\n",
    "            clf.fit(X_train, y_train)\n",
    "\n",
    "            training_accuracy.append(clf.score(X_train, y_train)) # record training set accuracy\n",
    "            test_accuracy.append(clf.score(X_test, y_test))   # record generalization accuracy\n",
    "            \n",
    "            pb.update(1)\n",
    "            \n",
    "        lahat_train[seedN]= training_accuracy\n",
    "        lahat_test[seedN] = test_accuracy\n",
    "        \n",
    "fig = plt.figure(figsize=(4,4))\n",
    "plt.errorbar(neighbors_settings, lahat_train.mean(axis=1),\n",
    "             yerr=lahat_train.var(axis=1), label=\"training accuracy\")\n",
    "plt.errorbar(neighbors_settings, lahat_test.mean(axis=1),\n",
    "             yerr=lahat_test.var(axis=1), label=\"test accuracy\")\n",
    "\n",
    "plt.ylabel(\"Accuracy\")\n",
    "plt.xlabel(\"n_neighbors\")\n",
    "plt.ylim(0,1)\n",
    "plt.legend()\n",
    "plt.show()\n",
    "\n",
    "n_neighbor_best= np.argmax(lahat_test.mean(axis=1))\n",
    "print(\"Highest Test Set Achieved = %f\" % np.amax(lahat_test.mean(axis=1)))\n",
    "print(\"Best Alpha =\",neighbors_settings[n_neighbor_best])\n",
    "table.loc['Ridge'] = [np.amax(lahat_train.mean(axis=1)),np.amax(lahat_test.mean(axis=1)), neighbors_settings[n_neighbor_best]]"
   ]
  },
  {
   "cell_type": "markdown",
   "metadata": {
    "ExecuteTime": {
     "end_time": "2020-08-21T06:46:44.935945Z",
     "start_time": "2020-08-21T06:46:44.933127Z"
    }
   },
   "source": [
    "# Lasso Regression Optimization"
   ]
  },
  {
   "cell_type": "code",
   "execution_count": 17,
   "metadata": {
    "ExecuteTime": {
     "end_time": "2020-08-21T13:04:10.725438Z",
     "start_time": "2020-08-21T13:04:09.329080Z"
    }
   },
   "outputs": [
    {
     "name": "stderr",
     "output_type": "stream",
     "text": [
      "Iter: 1:   0%|          | 0/95 [00:00<?, ?it/s]C:\\Users\\Ralph Caubalejo\\anaconda3\\lib\\site-packages\\sklearn\\linear_model\\_coordinate_descent.py:476: ConvergenceWarning: Objective did not converge. You might want to increase the number of iterations. Duality gap: 3.0860716316232436e+16, tolerance: 16294465177322.023\n",
      "  positive)\n",
      "C:\\Users\\Ralph Caubalejo\\anaconda3\\lib\\site-packages\\sklearn\\linear_model\\_coordinate_descent.py:476: ConvergenceWarning: Objective did not converge. You might want to increase the number of iterations. Duality gap: 3.075876224399482e+16, tolerance: 16294465177322.023\n",
      "  positive)\n",
      "C:\\Users\\Ralph Caubalejo\\anaconda3\\lib\\site-packages\\sklearn\\linear_model\\_coordinate_descent.py:476: ConvergenceWarning: Objective did not converge. You might want to increase the number of iterations. Duality gap: 2.9905282963262824e+16, tolerance: 16294465177322.023\n",
      "  positive)\n",
      "Iter: 1:   3%|▎         | 3/95 [00:00<00:04, 22.12it/s]C:\\Users\\Ralph Caubalejo\\anaconda3\\lib\\site-packages\\sklearn\\linear_model\\_coordinate_descent.py:476: ConvergenceWarning: Objective did not converge. You might want to increase the number of iterations. Duality gap: 2.44710867819644e+16, tolerance: 16294465177322.023\n",
      "  positive)\n",
      "Iter: 2:  20%|██        | 19/95 [00:00<00:02, 29.58it/s]C:\\Users\\Ralph Caubalejo\\anaconda3\\lib\\site-packages\\sklearn\\linear_model\\_coordinate_descent.py:476: ConvergenceWarning: Objective did not converge. You might want to increase the number of iterations. Duality gap: 2.988283476092299e+16, tolerance: 15994155710783.975\n",
      "  positive)\n",
      "C:\\Users\\Ralph Caubalejo\\anaconda3\\lib\\site-packages\\sklearn\\linear_model\\_coordinate_descent.py:476: ConvergenceWarning: Objective did not converge. You might want to increase the number of iterations. Duality gap: 2.978556037925076e+16, tolerance: 15994155710783.975\n",
      "  positive)\n",
      "C:\\Users\\Ralph Caubalejo\\anaconda3\\lib\\site-packages\\sklearn\\linear_model\\_coordinate_descent.py:476: ConvergenceWarning: Objective did not converge. You might want to increase the number of iterations. Duality gap: 2.951450015617877e+16, tolerance: 15994155710783.975\n",
      "  positive)\n",
      "Iter: 2:  23%|██▎       | 22/95 [00:00<00:02, 30.77it/s]C:\\Users\\Ralph Caubalejo\\anaconda3\\lib\\site-packages\\sklearn\\linear_model\\_coordinate_descent.py:476: ConvergenceWarning: Objective did not converge. You might want to increase the number of iterations. Duality gap: 2.6738839654349136e+16, tolerance: 15994155710783.975\n",
      "  positive)\n",
      "Iter: 3:  40%|████      | 38/95 [00:00<00:01, 39.57it/s]C:\\Users\\Ralph Caubalejo\\anaconda3\\lib\\site-packages\\sklearn\\linear_model\\_coordinate_descent.py:476: ConvergenceWarning: Objective did not converge. You might want to increase the number of iterations. Duality gap: 3.002942564637723e+16, tolerance: 15963855596300.16\n",
      "  positive)\n",
      "C:\\Users\\Ralph Caubalejo\\anaconda3\\lib\\site-packages\\sklearn\\linear_model\\_coordinate_descent.py:476: ConvergenceWarning: Objective did not converge. You might want to increase the number of iterations. Duality gap: 3.000298721009627e+16, tolerance: 15963855596300.16\n",
      "  positive)\n",
      "C:\\Users\\Ralph Caubalejo\\anaconda3\\lib\\site-packages\\sklearn\\linear_model\\_coordinate_descent.py:476: ConvergenceWarning: Objective did not converge. You might want to increase the number of iterations. Duality gap: 2.9558594683076876e+16, tolerance: 15963855596300.16\n",
      "  positive)\n",
      "Iter: 4:  60%|██████    | 57/95 [00:00<00:00, 52.87it/s]C:\\Users\\Ralph Caubalejo\\anaconda3\\lib\\site-packages\\sklearn\\linear_model\\_coordinate_descent.py:476: ConvergenceWarning: Objective did not converge. You might want to increase the number of iterations. Duality gap: 3.0329904492057536e+16, tolerance: 16071329820698.445\n",
      "  positive)\n",
      "C:\\Users\\Ralph Caubalejo\\anaconda3\\lib\\site-packages\\sklearn\\linear_model\\_coordinate_descent.py:476: ConvergenceWarning: Objective did not converge. You might want to increase the number of iterations. Duality gap: 3.001493889345917e+16, tolerance: 16071329820698.445\n",
      "  positive)\n",
      "C:\\Users\\Ralph Caubalejo\\anaconda3\\lib\\site-packages\\sklearn\\linear_model\\_coordinate_descent.py:476: ConvergenceWarning: Objective did not converge. You might want to increase the number of iterations. Duality gap: 2.9890388525407536e+16, tolerance: 16071329820698.445\n",
      "  positive)\n",
      "C:\\Users\\Ralph Caubalejo\\anaconda3\\lib\\site-packages\\sklearn\\linear_model\\_coordinate_descent.py:476: ConvergenceWarning: Objective did not converge. You might want to increase the number of iterations. Duality gap: 1.5512998673743272e+16, tolerance: 16071329820698.445\n",
      "  positive)\n",
      "Iter: 5:  80%|████████  | 76/95 [00:00<00:00, 49.90it/s]C:\\Users\\Ralph Caubalejo\\anaconda3\\lib\\site-packages\\sklearn\\linear_model\\_coordinate_descent.py:476: ConvergenceWarning: Objective did not converge. You might want to increase the number of iterations. Duality gap: 3.0382620588800836e+16, tolerance: 16228103817695.904\n",
      "  positive)\n",
      "C:\\Users\\Ralph Caubalejo\\anaconda3\\lib\\site-packages\\sklearn\\linear_model\\_coordinate_descent.py:476: ConvergenceWarning: Objective did not converge. You might want to increase the number of iterations. Duality gap: 3.0312649544039284e+16, tolerance: 16228103817695.904\n",
      "  positive)\n",
      "Iter: 5:  82%|████████▏ | 78/95 [00:01<00:00, 56.98it/s]C:\\Users\\Ralph Caubalejo\\anaconda3\\lib\\site-packages\\sklearn\\linear_model\\_coordinate_descent.py:476: ConvergenceWarning: Objective did not converge. You might want to increase the number of iterations. Duality gap: 2.9825906132600624e+16, tolerance: 16228103817695.904\n",
      "  positive)\n",
      "C:\\Users\\Ralph Caubalejo\\anaconda3\\lib\\site-packages\\sklearn\\linear_model\\_coordinate_descent.py:476: ConvergenceWarning: Objective did not converge. You might want to increase the number of iterations. Duality gap: 1.6510484864300398e+16, tolerance: 16228103817695.904\n",
      "  positive)\n",
      "Iter: 5: 100%|██████████| 95/95 [00:01<00:00, 75.50it/s]\n"
     ]
    },
    {
     "data": {
      "image/png": "[encoded data removed]",
      "text/plain": [
       "<Figure size 288x288 with 1 Axes>"
      ]
     },
     "metadata": {
      "needs_background": "light"
     },
     "output_type": "display_data"
    },
    {
     "name": "stdout",
     "output_type": "stream",
     "text": [
      "Highest Test Set Achieved = 0.625265\n",
      "Best Alpha =  1e-12\n"
     ]
    }
   ],
   "source": [
    "X = table2.drop('Amount',axis=1)\n",
    "y = table2['Amount']\n",
    "yz=5\n",
    "from sklearn.linear_model import Lasso\n",
    "neighbors_settings=[1e-12,1e-11,1e-10,1e-9,1e-8,1e-7,1e-6,1e-5,1e-4,\n",
    "                            1e-3,1e-2,0.1, 0.2,0.4,0.75, 1, 1.5, 3, 5]\n",
    "lahat_train = pd.DataFrame()\n",
    "lahat_test = pd.DataFrame()\n",
    "\n",
    "with tqdm(total=yz*len(neighbors_settings)) as pb:\n",
    "    for seedN in range(0,yz):\n",
    "        from sklearn.model_selection import train_test_split\n",
    "        X_train, X_test, y_train, y_test = train_test_split(X, y,\n",
    "                                            test_size=0.25, random_state=seedN)\n",
    "\n",
    "        training_accuracy = []\n",
    "        test_accuracy = []\n",
    "\n",
    "        pb.set_description(f'Iter: {seedN+1}')\n",
    "        \n",
    "        \n",
    "        for n_neighbors in neighbors_settings:   \n",
    "            clf = Lasso(alpha=n_neighbors,max_iter=1000)  # build the model\n",
    "            clf.fit(X_train, y_train)\n",
    "\n",
    "            training_accuracy.append(clf.score(X_train, y_train)) # record training set accuracy\n",
    "            test_accuracy.append(clf.score(X_test, y_test))   # record generalization accuracy\n",
    "            \n",
    "            pb.update(1)\n",
    "            \n",
    "        lahat_train[seedN]= training_accuracy\n",
    "        lahat_test[seedN] = test_accuracy\n",
    "        \n",
    "fig = plt.figure(figsize=(4,4))\n",
    "plt.errorbar(neighbors_settings, lahat_train.mean(axis=1),\n",
    "             yerr=lahat_train.var(axis=1), label=\"training accuracy\")\n",
    "plt.errorbar(neighbors_settings, lahat_test.mean(axis=1),\n",
    "             yerr=lahat_test.var(axis=1), label=\"test accuracy\")\n",
    "\n",
    "plt.ylabel(\"Accuracy\")\n",
    "plt.xlabel(\"n_neighbors\")\n",
    "plt.ylim(0,1)\n",
    "plt.legend()\n",
    "plt.show()\n",
    "\n",
    "n_neighbor_best= np.argmax(lahat_test.mean(axis=1))\n",
    "print(\"Highest Test Set Achieved = %f\" % np.amax(lahat_test.mean(axis=1)))\n",
    "print(\"Best Alpha = \",neighbors_settings[n_neighbor_best])\n",
    "table.loc['Lasso'] = [np.amax(lahat_train.mean(axis=1)),np.amax(lahat_test.mean(axis=1)),neighbors_settings[n_neighbor_best]]\n"
   ]
  },
  {
   "cell_type": "markdown",
   "metadata": {
    "ExecuteTime": {
     "end_time": "2020-08-21T06:48:37.839352Z",
     "start_time": "2020-08-21T06:48:37.837357Z"
    }
   },
   "source": [
    "# Decision Tree Regressor Optimization"
   ]
  },
  {
   "cell_type": "code",
   "execution_count": 18,
   "metadata": {
    "ExecuteTime": {
     "end_time": "2020-08-21T13:04:15.554012Z",
     "start_time": "2020-08-21T13:04:10.727422Z"
    }
   },
   "outputs": [
    {
     "name": "stderr",
     "output_type": "stream",
     "text": [
      "Iter: 5: 100%|██████████| 245/245 [00:04<00:00, 52.13it/s]\n"
     ]
    },
    {
     "data": {
      "image/png": "[encoded data removed]",
      "text/plain": [
       "<Figure size 288x288 with 1 Axes>"
      ]
     },
     "metadata": {
      "needs_background": "light"
     },
     "output_type": "display_data"
    },
    {
     "name": "stdout",
     "output_type": "stream",
     "text": [
      "Highest Test Set Achieved = 0.762213\n",
      "Best Depth = 7\n"
     ]
    }
   ],
   "source": [
    "X = table2.drop('Amount',axis=1)\n",
    "y = table2['Amount']\n",
    "yz=5\n",
    "\n",
    "neighbors_settings=range(1,50)\n",
    "lahat_train = pd.DataFrame()\n",
    "lahat_test = pd.DataFrame()\n",
    "\n",
    "with tqdm(total=yz*len(neighbors_settings)) as pb:\n",
    "    for seedN in range(0,yz):\n",
    "        from sklearn.model_selection import train_test_split\n",
    "        X_train, X_test, y_train, y_test = train_test_split(X, y,\n",
    "                                            test_size=0.25, random_state=seedN)\n",
    "\n",
    "        training_accuracy = []\n",
    "        test_accuracy = []\n",
    "\n",
    "        pb.set_description(f'Iter: {seedN+1}')\n",
    "        \n",
    "        \n",
    "        for n_neighbors in neighbors_settings:   \n",
    "            clf = DecisionTreeRegressor(max_depth=n_neighbors)  # build the model\n",
    "            clf.fit(X_train, y_train)\n",
    "\n",
    "            training_accuracy.append(clf.score(X_train, y_train)) # record training set accuracy\n",
    "            test_accuracy.append(clf.score(X_test, y_test))   # record generalization accuracy\n",
    "            \n",
    "            pb.update(1)\n",
    "            \n",
    "        lahat_train[seedN]= training_accuracy\n",
    "        lahat_test[seedN] = test_accuracy\n",
    "        \n",
    "fig = plt.figure(figsize=(4,4))\n",
    "plt.errorbar(neighbors_settings, lahat_train.mean(axis=1),\n",
    "             yerr=lahat_train.var(axis=1), label=\"training accuracy\")\n",
    "plt.errorbar(neighbors_settings, lahat_test.mean(axis=1),\n",
    "             yerr=lahat_test.var(axis=1), label=\"test accuracy\")\n",
    "\n",
    "plt.ylabel(\"Accuracy\")\n",
    "plt.xlabel(\"n_neighbors\")\n",
    "plt.ylim(0,1)\n",
    "plt.legend()\n",
    "plt.show()\n",
    "\n",
    "n_neighbor_best= np.argmax(lahat_test.mean(axis=1))\n",
    "print(\"Highest Test Set Achieved = %f\" % np.amax(lahat_test.mean(axis=1)))\n",
    "print(\"Best Depth = %d\" %n_neighbor_best)\n",
    "table.loc['DecisionTree'] = [np.amax(lahat_train.mean(axis=1)),np.amax(lahat_test.mean(axis=1)), n_neighbor_best]\n"
   ]
  },
  {
   "cell_type": "markdown",
   "metadata": {},
   "source": [
    "# Random Forest Grid Search"
   ]
  },
  {
   "cell_type": "code",
   "execution_count": 22,
   "metadata": {
    "ExecuteTime": {
     "end_time": "2020-08-21T13:16:04.594069Z",
     "start_time": "2020-08-21T13:16:04.588085Z"
    }
   },
   "outputs": [],
   "source": [
    "X = table2.drop('Amount',axis=1)\n",
    "y = table2['Amount']\n",
    "X_train, X_test, y_train, y_test = train_test_split(X, y,test_size=0.25)"
   ]
  },
  {
   "cell_type": "code",
   "execution_count": 23,
   "metadata": {
    "ExecuteTime": {
     "end_time": "2020-08-21T13:16:05.148586Z",
     "start_time": "2020-08-21T13:16:05.142571Z"
    }
   },
   "outputs": [],
   "source": [
    "def algorithm_pipeline(X_train_data, X_test_data, y_train_data, y_test_data, \n",
    "                       model, param_grid, cv=10, scoring_fit='neg_mean_squared_error',\n",
    "                       do_probabilities = False):\n",
    "    gs = GridSearchCV(\n",
    "        estimator=model,\n",
    "        param_grid=param_grid, \n",
    "        cv=cv, \n",
    "        n_jobs=-1, \n",
    "        scoring=scoring_fit,\n",
    "        verbose=2\n",
    "    )\n",
    "    fitted_model = gs.fit(X_train_data, y_train_data)\n",
    "    \n",
    "    if do_probabilities:\n",
    "      pred = fitted_model.predict_proba(X_test_data)\n",
    "    else:\n",
    "      pred = fitted_model.predict(X_test_data)\n",
    "    \n",
    "    return fitted_model, pred\n"
   ]
  },
  {
   "cell_type": "code",
   "execution_count": 25,
   "metadata": {
    "ExecuteTime": {
     "end_time": "2020-08-21T13:50:45.661399Z",
     "start_time": "2020-08-21T13:21:23.871656Z"
    }
   },
   "outputs": [
    {
     "name": "stdout",
     "output_type": "stream",
     "text": [
      "Fitting 2 folds for each of 8640 candidates, totalling 17280 fits\n"
     ]
    },
    {
     "name": "stderr",
     "output_type": "stream",
     "text": [
      "[Parallel(n_jobs=-1)]: Using backend LokyBackend with 12 concurrent workers.\n",
      "[Parallel(n_jobs=-1)]: Done  17 tasks      | elapsed:    1.7s\n",
      "[Parallel(n_jobs=-1)]: Done 138 tasks      | elapsed:    7.9s\n",
      "[Parallel(n_jobs=-1)]: Done 341 tasks      | elapsed:   19.0s\n",
      "[Parallel(n_jobs=-1)]: Done 624 tasks      | elapsed:   35.2s\n",
      "[Parallel(n_jobs=-1)]: Done 989 tasks      | elapsed:   57.8s\n",
      "[Parallel(n_jobs=-1)]: Done 1434 tasks      | elapsed:  1.4min\n",
      "[Parallel(n_jobs=-1)]: Done 1961 tasks      | elapsed:  2.0min\n",
      "[Parallel(n_jobs=-1)]: Done 2568 tasks      | elapsed:  2.7min\n",
      "[Parallel(n_jobs=-1)]: Done 3257 tasks      | elapsed:  3.5min\n",
      "[Parallel(n_jobs=-1)]: Done 4026 tasks      | elapsed:  4.5min\n",
      "[Parallel(n_jobs=-1)]: Done 4877 tasks      | elapsed:  5.8min\n",
      "[Parallel(n_jobs=-1)]: Done 5808 tasks      | elapsed:  7.1min\n",
      "[Parallel(n_jobs=-1)]: Done 6821 tasks      | elapsed:  8.7min\n",
      "[Parallel(n_jobs=-1)]: Done 7914 tasks      | elapsed: 10.7min\n",
      "[Parallel(n_jobs=-1)]: Done 9089 tasks      | elapsed: 12.7min\n",
      "[Parallel(n_jobs=-1)]: Done 10344 tasks      | elapsed: 15.1min\n",
      "[Parallel(n_jobs=-1)]: Done 11681 tasks      | elapsed: 17.9min\n",
      "[Parallel(n_jobs=-1)]: Done 13098 tasks      | elapsed: 20.7min\n",
      "[Parallel(n_jobs=-1)]: Done 14597 tasks      | elapsed: 23.7min\n",
      "[Parallel(n_jobs=-1)]: Done 16176 tasks      | elapsed: 26.9min\n",
      "[Parallel(n_jobs=-1)]: Done 17280 out of 17280 | elapsed: 29.3min finished\n"
     ]
    },
    {
     "name": "stdout",
     "output_type": "stream",
     "text": [
      "0.8414007964841045\n",
      "{'max_depth': 20, 'max_features': 0.4, 'min_samples_leaf': 1, 'min_samples_split': 2, 'n_estimators': 300}\n"
     ]
    }
   ],
   "source": [
    "from sklearn.model_selection import GridSearchCV\n",
    "\n",
    "param_grids = {'max_depth': [12,14,16,18,20,22,24],\n",
    "               'n_estimators':[100,200,300,400,500,600],\n",
    "              'min_samples_leaf': [0.6,0.8,1,2,3,4],\n",
    "              'max_features': [3,2,1,0.8,0.6,0.4,0.2,0.1],'min_samples_split': [2,4,6] \n",
    "}   \n",
    "\n",
    "model= RandomForestRegressor()\n",
    "\n",
    "model, pred = algorithm_pipeline(X_train, X_test, y_train, y_test, model, \n",
    "                                 param_grids, cv=2, scoring_fit='r2')\n",
    "\n",
    "print(model.best_score_)\n",
    "print(model.best_params_)"
   ]
  },
  {
   "cell_type": "code",
   "execution_count": 27,
   "metadata": {
    "ExecuteTime": {
     "end_time": "2020-08-21T13:51:56.229624Z",
     "start_time": "2020-08-21T13:51:56.225603Z"
    }
   },
   "outputs": [],
   "source": [
    "table.loc['RandomForest '] = ['Used Grid Search',model.best_score_, model.best_params_]"
   ]
  },
  {
   "cell_type": "markdown",
   "metadata": {},
   "source": [
    "# Extra Trees Grid Search"
   ]
  },
  {
   "cell_type": "code",
   "execution_count": 35,
   "metadata": {
    "ExecuteTime": {
     "end_time": "2020-08-21T15:40:02.577852Z",
     "start_time": "2020-08-21T15:33:03.343022Z"
    }
   },
   "outputs": [
    {
     "name": "stdout",
     "output_type": "stream",
     "text": [
      "Fitting 2 folds for each of 840 candidates, totalling 1680 fits\n"
     ]
    },
    {
     "name": "stderr",
     "output_type": "stream",
     "text": [
      "[Parallel(n_jobs=-1)]: Using backend LokyBackend with 12 concurrent workers.\n",
      "[Parallel(n_jobs=-1)]: Done  17 tasks      | elapsed:    5.0s\n",
      "[Parallel(n_jobs=-1)]: Done 138 tasks      | elapsed:   33.0s\n",
      "[Parallel(n_jobs=-1)]: Done 341 tasks      | elapsed:  1.3min\n",
      "[Parallel(n_jobs=-1)]: Done 624 tasks      | elapsed:  2.4min\n",
      "[Parallel(n_jobs=-1)]: Done 989 tasks      | elapsed:  4.0min\n",
      "[Parallel(n_jobs=-1)]: Done 1434 tasks      | elapsed:  5.9min\n",
      "[Parallel(n_jobs=-1)]: Done 1680 out of 1680 | elapsed:  6.9min finished\n"
     ]
    },
    {
     "name": "stdout",
     "output_type": "stream",
     "text": [
      "0.8439668296488572\n",
      "{'max_depth': 26, 'max_features': 'log2', 'min_samples_leaf': 1, 'n_estimators': 700}\n"
     ]
    }
   ],
   "source": [
    "from sklearn.model_selection import GridSearchCV\n",
    "\n",
    "param_grids = {'max_depth': [20,22,24,26,28],\n",
    "               'n_estimators':[400,500,600,700,800,900,1000],\n",
    "              'min_samples_leaf': [0.8,1,2,3],\n",
    "              'max_features': [5,4,3,'auto','sqrt','log2']\n",
    "}   \n",
    "\n",
    "model= ExtraTreesRegressor()\n",
    "\n",
    "model, pred = algorithm_pipeline(X_train, X_test, y_train, y_test, model, \n",
    "                                 param_grids, cv=2, scoring_fit='r2')\n",
    "\n",
    "print(model.best_score_)\n",
    "print(model.best_params_)"
   ]
  },
  {
   "cell_type": "code",
   "execution_count": 37,
   "metadata": {
    "ExecuteTime": {
     "end_time": "2020-08-21T15:42:11.994610Z",
     "start_time": "2020-08-21T15:42:11.990614Z"
    }
   },
   "outputs": [],
   "source": [
    "table.loc['Extra Tree'] = ['Used Grid Search',model.best_score_, model.best_params_]"
   ]
  },
  {
   "cell_type": "markdown",
   "metadata": {},
   "source": [
    "# Gradient Boosting Grid Search"
   ]
  },
  {
   "cell_type": "code",
   "execution_count": 38,
   "metadata": {
    "ExecuteTime": {
     "end_time": "2020-08-21T16:18:52.238220Z",
     "start_time": "2020-08-21T15:42:27.113003Z"
    }
   },
   "outputs": [
    {
     "name": "stdout",
     "output_type": "stream",
     "text": [
      "Fitting 2 folds for each of 5670 candidates, totalling 11340 fits\n"
     ]
    },
    {
     "name": "stderr",
     "output_type": "stream",
     "text": [
      "[Parallel(n_jobs=-1)]: Using backend LokyBackend with 12 concurrent workers.\n",
      "[Parallel(n_jobs=-1)]: Done  17 tasks      | elapsed:    0.6s\n",
      "[Parallel(n_jobs=-1)]: Done 186 tasks      | elapsed:   17.6s\n",
      "[Parallel(n_jobs=-1)]: Done 389 tasks      | elapsed:   37.2s\n",
      "[Parallel(n_jobs=-1)]: Done 672 tasks      | elapsed:  1.4min\n",
      "[Parallel(n_jobs=-1)]: Done 1037 tasks      | elapsed:  2.5min\n",
      "[Parallel(n_jobs=-1)]: Done 1482 tasks      | elapsed:  4.2min\n",
      "[Parallel(n_jobs=-1)]: Done 2009 tasks      | elapsed:  6.5min\n",
      "[Parallel(n_jobs=-1)]: Done 2616 tasks      | elapsed:  7.9min\n",
      "[Parallel(n_jobs=-1)]: Done 3305 tasks      | elapsed: 10.3min\n",
      "[Parallel(n_jobs=-1)]: Done 4074 tasks      | elapsed: 13.0min\n",
      "[Parallel(n_jobs=-1)]: Done 4925 tasks      | elapsed: 15.2min\n",
      "[Parallel(n_jobs=-1)]: Done 5856 tasks      | elapsed: 18.7min\n",
      "[Parallel(n_jobs=-1)]: Done 6869 tasks      | elapsed: 21.3min\n",
      "[Parallel(n_jobs=-1)]: Done 7962 tasks      | elapsed: 25.0min\n",
      "[Parallel(n_jobs=-1)]: Done 9137 tasks      | elapsed: 28.8min\n",
      "[Parallel(n_jobs=-1)]: Done 10392 tasks      | elapsed: 32.4min\n",
      "[Parallel(n_jobs=-1)]: Done 11340 out of 11340 | elapsed: 36.4min finished\n"
     ]
    },
    {
     "name": "stdout",
     "output_type": "stream",
     "text": [
      "0.8519289516747679\n",
      "{'learning_rate': 0.05, 'max_depth': 6, 'max_features': 'sqrt', 'min_samples_leaf': 1, 'n_estimators': 900}\n"
     ]
    }
   ],
   "source": [
    "from sklearn.model_selection import GridSearchCV\n",
    "\n",
    "param_grids = {'learning_rate': [ 0.0075,0.005,0.01,0.02,0.05,0.075],\n",
    "    'max_depth': [4,6,8,10,12],\n",
    "               'n_estimators':[500,600,700,800,900,1000,1100],\n",
    "              'min_samples_leaf': [0.8,1,3],\n",
    "              'max_features': [1,0.8,0.6,0.4,0.2,0.1,'auto','sqrt','log2'],\n",
    "}   \n",
    "\n",
    "model= GradientBoostingRegressor()\n",
    "\n",
    "model, pred = algorithm_pipeline(X_train, X_test, y_train, y_test, model, \n",
    "                                 param_grids, cv=2, scoring_fit='r2')\n",
    "\n",
    "print(model.best_score_)\n",
    "print(model.best_params_)"
   ]
  },
  {
   "cell_type": "code",
   "execution_count": 39,
   "metadata": {
    "ExecuteTime": {
     "end_time": "2020-08-21T16:19:19.208452Z",
     "start_time": "2020-08-21T16:19:19.203467Z"
    }
   },
   "outputs": [],
   "source": [
    "table.loc['Gradient Boosting'] = ['Used Grid Search',model.best_score_, model.best_params_]"
   ]
  },
  {
   "cell_type": "markdown",
   "metadata": {},
   "source": [
    "# XGB Grid Search"
   ]
  },
  {
   "cell_type": "code",
   "execution_count": 42,
   "metadata": {
    "ExecuteTime": {
     "end_time": "2020-08-21T16:25:56.192602Z",
     "start_time": "2020-08-21T16:24:35.120636Z"
    }
   },
   "outputs": [
    {
     "name": "stdout",
     "output_type": "stream",
     "text": [
      "Fitting 2 folds for each of 210 candidates, totalling 420 fits\n"
     ]
    },
    {
     "name": "stderr",
     "output_type": "stream",
     "text": [
      "[Parallel(n_jobs=-1)]: Using backend LokyBackend with 12 concurrent workers.\n",
      "[Parallel(n_jobs=-1)]: Done  17 tasks      | elapsed:    1.8s\n",
      "[Parallel(n_jobs=-1)]: Done 138 tasks      | elapsed:   24.4s\n",
      "[Parallel(n_jobs=-1)]: Done 341 tasks      | elapsed:  1.0min\n",
      "[Parallel(n_jobs=-1)]: Done 420 out of 420 | elapsed:  1.3min finished\n"
     ]
    },
    {
     "name": "stdout",
     "output_type": "stream",
     "text": [
      "0.835655662536507\n",
      "{'learning_rate': 0.05, 'max_depth': 6, 'n_estimators': 600}\n"
     ]
    }
   ],
   "source": [
    "from sklearn.model_selection import GridSearchCV\n",
    "\n",
    "param_grids = {'learning_rate': [0.005,0.01,0.025,0.05,0.075,0.1,0.2],\n",
    "    'max_depth': [2,4,6,8,10],\n",
    "               'n_estimators':[300,400,500,600,700,800]\n",
    "}   \n",
    "\n",
    "model= XGBRegressor()\n",
    "\n",
    "model, pred = algorithm_pipeline(X_train, X_test, y_train, y_test, model, \n",
    "                                 param_grids, cv=2, scoring_fit='r2')\n",
    "\n",
    "print(model.best_score_)\n",
    "print(model.best_params_)"
   ]
  },
  {
   "cell_type": "code",
   "execution_count": 43,
   "metadata": {
    "ExecuteTime": {
     "end_time": "2020-08-21T16:26:16.183538Z",
     "start_time": "2020-08-21T16:26:16.176543Z"
    }
   },
   "outputs": [],
   "source": [
    "table.loc['XGB'] = ['Used Grid Search',model.best_score_, model.best_params_]"
   ]
  },
  {
   "cell_type": "markdown",
   "metadata": {},
   "source": [
    "# Lightboost Grid Search"
   ]
  },
  {
   "cell_type": "code",
   "execution_count": 44,
   "metadata": {
    "ExecuteTime": {
     "end_time": "2020-08-21T16:46:47.297130Z",
     "start_time": "2020-08-21T16:26:36.497521Z"
    }
   },
   "outputs": [
    {
     "name": "stdout",
     "output_type": "stream",
     "text": [
      "Fitting 2 folds for each of 8640 candidates, totalling 17280 fits\n"
     ]
    },
    {
     "name": "stderr",
     "output_type": "stream",
     "text": [
      "[Parallel(n_jobs=-1)]: Using backend LokyBackend with 12 concurrent workers.\n",
      "[Parallel(n_jobs=-1)]: Done  17 tasks      | elapsed:    0.4s\n",
      "[Parallel(n_jobs=-1)]: Done 138 tasks      | elapsed:    2.8s\n",
      "[Parallel(n_jobs=-1)]: Done 341 tasks      | elapsed:    6.9s\n",
      "[Parallel(n_jobs=-1)]: Done 624 tasks      | elapsed:   15.8s\n",
      "[Parallel(n_jobs=-1)]: Done 989 tasks      | elapsed:   32.7s\n",
      "[Parallel(n_jobs=-1)]: Done 1434 tasks      | elapsed:  1.1min\n",
      "[Parallel(n_jobs=-1)]: Done 1961 tasks      | elapsed:  1.9min\n",
      "[Parallel(n_jobs=-1)]: Done 2568 tasks      | elapsed:  3.0min\n",
      "[Parallel(n_jobs=-1)]: Done 3257 tasks      | elapsed:  3.7min\n",
      "[Parallel(n_jobs=-1)]: Done 4026 tasks      | elapsed:  4.3min\n",
      "[Parallel(n_jobs=-1)]: Done 4877 tasks      | elapsed:  5.5min\n",
      "[Parallel(n_jobs=-1)]: Done 5808 tasks      | elapsed:  6.9min\n",
      "[Parallel(n_jobs=-1)]: Done 6821 tasks      | elapsed:  7.4min\n",
      "[Parallel(n_jobs=-1)]: Done 7914 tasks      | elapsed:  8.8min\n",
      "[Parallel(n_jobs=-1)]: Done 9089 tasks      | elapsed: 10.2min\n",
      "[Parallel(n_jobs=-1)]: Done 10344 tasks      | elapsed: 11.4min\n",
      "[Parallel(n_jobs=-1)]: Done 11681 tasks      | elapsed: 13.4min\n",
      "[Parallel(n_jobs=-1)]: Done 13098 tasks      | elapsed: 14.7min\n",
      "[Parallel(n_jobs=-1)]: Done 14597 tasks      | elapsed: 16.8min\n",
      "[Parallel(n_jobs=-1)]: Done 16176 tasks      | elapsed: 18.3min\n",
      "[Parallel(n_jobs=-1)]: Done 17280 out of 17280 | elapsed: 20.2min finished\n"
     ]
    },
    {
     "name": "stdout",
     "output_type": "stream",
     "text": [
      "0.8345858191550148\n",
      "{'learning_rate': 0.05, 'max_depth': 6, 'max_features': 2, 'min_samples_leaf': 0.4, 'n_estimators': 600}\n"
     ]
    }
   ],
   "source": [
    "from sklearn.model_selection import GridSearchCV\n",
    "\n",
    "param_grids = {'learning_rate': [ 0.01,0.02,0.05,0.075,0.1,0.2],\n",
    "    'max_depth': [2,4,6,8,10,12],\n",
    "               'n_estimators':[300,400,500,600,700,800],\n",
    "              'min_samples_leaf': [0.4,0.6,0.8,1,1.2],\n",
    "              'max_features': [2,1.8,1.6,1.4,1.2,1,0.8,0.6]\n",
    "}   \n",
    "\n",
    "model= LGBMRegressor()\n",
    "\n",
    "model, pred = algorithm_pipeline(X_train, X_test, y_train, y_test, model, \n",
    "                                 param_grids, cv=2, scoring_fit='r2')\n",
    "\n",
    "print(model.best_score_)\n",
    "print(model.best_params_)"
   ]
  },
  {
   "cell_type": "code",
   "execution_count": 45,
   "metadata": {
    "ExecuteTime": {
     "end_time": "2020-08-21T17:34:45.089310Z",
     "start_time": "2020-08-21T17:34:45.073385Z"
    }
   },
   "outputs": [],
   "source": [
    "table.loc['Lightboost'] = ['Used Grid Search',model.best_score_, model.best_params_]"
   ]
  },
  {
   "cell_type": "markdown",
   "metadata": {
    "ExecuteTime": {
     "end_time": "2020-08-21T07:22:58.351088Z",
     "start_time": "2020-08-21T07:22:58.347067Z"
    }
   },
   "source": [
    "# Catboost Grid Search"
   ]
  },
  {
   "cell_type": "code",
   "execution_count": 47,
   "metadata": {
    "ExecuteTime": {
     "end_time": "2020-08-21T18:30:06.326273Z",
     "start_time": "2020-08-21T18:12:12.964349Z"
    }
   },
   "outputs": [
    {
     "name": "stdout",
     "output_type": "stream",
     "text": [
      "Fitting 2 folds for each of 150 candidates, totalling 300 fits\n"
     ]
    },
    {
     "name": "stderr",
     "output_type": "stream",
     "text": [
      "[Parallel(n_jobs=-1)]: Using backend LokyBackend with 12 concurrent workers.\n",
      "[Parallel(n_jobs=-1)]: Done  17 tasks      | elapsed:   28.3s\n",
      "[Parallel(n_jobs=-1)]: Done 138 tasks      | elapsed:  7.8min\n",
      "[Parallel(n_jobs=-1)]: Done 300 out of 300 | elapsed: 17.8min finished\n"
     ]
    },
    {
     "name": "stdout",
     "output_type": "stream",
     "text": [
      "0.8434155062983847\n",
      "{'learning_rate': 0.1, 'max_depth': 6, 'n_estimators': 1200}\n"
     ]
    }
   ],
   "source": [
    "from sklearn.model_selection import GridSearchCV\n",
    "\n",
    "param_grids = {'learning_rate': [0.05,0.075,0.1,0.2,0.3],\n",
    "    'max_depth': [2,4,6,8,10],\n",
    "               'n_estimators':[900,1000,1100,1200,1300,1400]}   \n",
    "\n",
    "model= CatBoostRegressor(verbose=False)\n",
    "\n",
    "model, pred = algorithm_pipeline(X_train, X_test, y_train, y_test, model, \n",
    "                                 param_grids, cv=2, scoring_fit='r2')\n",
    "\n",
    "print(model.best_score_)\n",
    "print(model.best_params_)"
   ]
  },
  {
   "cell_type": "code",
   "execution_count": 48,
   "metadata": {
    "ExecuteTime": {
     "end_time": "2020-08-21T18:37:05.498904Z",
     "start_time": "2020-08-21T18:37:05.489928Z"
    }
   },
   "outputs": [],
   "source": [
    "table.loc['Catboost'] = ['Used Grid Search',model.best_score_, model.best_params_]"
   ]
  },
  {
   "cell_type": "code",
   "execution_count": 49,
   "metadata": {
    "ExecuteTime": {
     "end_time": "2020-08-21T18:37:08.554632Z",
     "start_time": "2020-08-21T18:37:08.542664Z"
    }
   },
   "outputs": [
    {
     "data": {
      "text/html": [
       "<div>\n",
       "<style scoped>\n",
       "    .dataframe tbody tr th:only-of-type {\n",
       "        vertical-align: middle;\n",
       "    }\n",
       "\n",
       "    .dataframe tbody tr th {\n",
       "        vertical-align: top;\n",
       "    }\n",
       "\n",
       "    .dataframe thead th {\n",
       "        text-align: right;\n",
       "    }\n",
       "</style>\n",
       "<table border=\"1\" class=\"dataframe\">\n",
       "  <thead>\n",
       "    <tr style=\"text-align: right;\">\n",
       "      <th></th>\n",
       "      <th>Train_Accuracy</th>\n",
       "      <th>Test_Accuracy</th>\n",
       "      <th>Optimal Parameter</th>\n",
       "    </tr>\n",
       "  </thead>\n",
       "  <tbody>\n",
       "    <tr>\n",
       "      <th>KNN</th>\n",
       "      <td>0.999941</td>\n",
       "      <td>0.643385</td>\n",
       "      <td>12</td>\n",
       "    </tr>\n",
       "    <tr>\n",
       "      <th>LR</th>\n",
       "      <td>0.623799</td>\n",
       "      <td>0.625265</td>\n",
       "      <td>N/A</td>\n",
       "    </tr>\n",
       "    <tr>\n",
       "      <th>Ridge</th>\n",
       "      <td>0.623799</td>\n",
       "      <td>0.625265</td>\n",
       "      <td>1e-12</td>\n",
       "    </tr>\n",
       "    <tr>\n",
       "      <th>Lasso</th>\n",
       "      <td>0.623799</td>\n",
       "      <td>0.625265</td>\n",
       "      <td>1e-12</td>\n",
       "    </tr>\n",
       "    <tr>\n",
       "      <th>DecisionTree</th>\n",
       "      <td>0.999972</td>\n",
       "      <td>0.762213</td>\n",
       "      <td>7</td>\n",
       "    </tr>\n",
       "    <tr>\n",
       "      <th>RandomForest</th>\n",
       "      <td>Used Grid Search</td>\n",
       "      <td>0.841401</td>\n",
       "      <td>{'max_depth': 20, 'max_features': 0.4, 'min_sa...</td>\n",
       "    </tr>\n",
       "    <tr>\n",
       "      <th>Extra Tree</th>\n",
       "      <td>Used Grid Search</td>\n",
       "      <td>0.843967</td>\n",
       "      <td>{'max_depth': 26, 'max_features': 'log2', 'min...</td>\n",
       "    </tr>\n",
       "    <tr>\n",
       "      <th>Gradient Boosting</th>\n",
       "      <td>Used Grid Search</td>\n",
       "      <td>0.851929</td>\n",
       "      <td>{'learning_rate': 0.05, 'max_depth': 6, 'max_f...</td>\n",
       "    </tr>\n",
       "    <tr>\n",
       "      <th>XGB</th>\n",
       "      <td>Used Grid Search</td>\n",
       "      <td>0.835656</td>\n",
       "      <td>{'learning_rate': 0.05, 'max_depth': 6, 'n_est...</td>\n",
       "    </tr>\n",
       "    <tr>\n",
       "      <th>Lightboost</th>\n",
       "      <td>Used Grid Search</td>\n",
       "      <td>0.834586</td>\n",
       "      <td>{'learning_rate': 0.05, 'max_depth': 6, 'max_f...</td>\n",
       "    </tr>\n",
       "    <tr>\n",
       "      <th>Catboost</th>\n",
       "      <td>Used Grid Search</td>\n",
       "      <td>0.843416</td>\n",
       "      <td>{'learning_rate': 0.1, 'max_depth': 6, 'n_esti...</td>\n",
       "    </tr>\n",
       "  </tbody>\n",
       "</table>\n",
       "</div>"
      ],
      "text/plain": [
       "                     Train_Accuracy  Test_Accuracy  \\\n",
       "KNN                        0.999941       0.643385   \n",
       "LR                         0.623799       0.625265   \n",
       "Ridge                      0.623799       0.625265   \n",
       "Lasso                      0.623799       0.625265   \n",
       "DecisionTree               0.999972       0.762213   \n",
       "RandomForest       Used Grid Search       0.841401   \n",
       "Extra Tree         Used Grid Search       0.843967   \n",
       "Gradient Boosting  Used Grid Search       0.851929   \n",
       "XGB                Used Grid Search       0.835656   \n",
       "Lightboost         Used Grid Search       0.834586   \n",
       "Catboost           Used Grid Search       0.843416   \n",
       "\n",
       "                                                   Optimal Parameter  \n",
       "KNN                                                               12  \n",
       "LR                                                               N/A  \n",
       "Ridge                                                          1e-12  \n",
       "Lasso                                                          1e-12  \n",
       "DecisionTree                                                       7  \n",
       "RandomForest       {'max_depth': 20, 'max_features': 0.4, 'min_sa...  \n",
       "Extra Tree         {'max_depth': 26, 'max_features': 'log2', 'min...  \n",
       "Gradient Boosting  {'learning_rate': 0.05, 'max_depth': 6, 'max_f...  \n",
       "XGB                {'learning_rate': 0.05, 'max_depth': 6, 'n_est...  \n",
       "Lightboost         {'learning_rate': 0.05, 'max_depth': 6, 'max_f...  \n",
       "Catboost           {'learning_rate': 0.1, 'max_depth': 6, 'n_esti...  "
      ]
     },
     "execution_count": 49,
     "metadata": {},
     "output_type": "execute_result"
    }
   ],
   "source": [
    "table"
   ]
  },
  {
   "cell_type": "code",
   "execution_count": 50,
   "metadata": {
    "ExecuteTime": {
     "end_time": "2020-08-21T18:37:29.661075Z",
     "start_time": "2020-08-21T18:37:29.640131Z"
    }
   },
   "outputs": [],
   "source": [
    "table.to_csv('Tuning_Parameters.csv')"
   ]
  },
  {
   "cell_type": "code",
   "execution_count": null,
   "metadata": {},
   "outputs": [],
   "source": []
  }
 ],
 "metadata": {
  "kernelspec": {
   "display_name": "Python 3",
   "language": "python",
   "name": "python3"
  },
  "language_info": {
   "codemirror_mode": {
    "name": "ipython",
    "version": 3
   },
   "file_extension": ".py",
   "mimetype": "text/x-python",
   "name": "python",
   "nbconvert_exporter": "python",
   "pygments_lexer": "ipython3",
   "version": "3.7.6"
  }
 },
 "nbformat": 4,
 "nbformat_minor": 4
}
